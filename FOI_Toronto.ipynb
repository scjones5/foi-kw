{
 "cells": [
  {
   "cell_type": "code",
   "execution_count": 2,
   "metadata": {
    "collapsed": false
   },
   "outputs": [],
   "source": [
    "import pandas as pd\n",
    "from pandas.io.json import json_normalize\n",
    "import requests\n",
    "import json\n",
    "import os\n",
    "from fuzzywuzzy import process, fuzz"
   ]
  },
  {
   "cell_type": "markdown",
   "metadata": {},
   "source": [
    "### Kitchener data"
   ]
  },
  {
   "cell_type": "code",
   "execution_count": 3,
   "metadata": {
    "collapsed": true
   },
   "outputs": [],
   "source": [
    "import requests\n",
    "response2010 = requests.get(\"https://opendata.arcgis.com/datasets/a47ef9f046d442808c306dfd59ec2f7c_0/FeatureServer/0/query?where=1%3D1&outFields=*&outSR=4326&f=json\")\n",
    "response1998 = requests.get(\"https://opendata.arcgis.com/datasets/d056d3e23558481bbd99376e1718d0a3_0/FeatureServer/0/query?where=1%3D1&outFields=*&outSR=4326&f=json\")\n",
    "response1997 = requests.get(\"https://opendata.arcgis.com/datasets/fcfa7d6ada794969bbed357e4bd85294_0/FeatureServer/0/query?where=1%3D1&outFields=*&outSR=4326&f=json\")\n",
    "response1996 = requests.get(\"https://opendata.arcgis.com/datasets/76f77c2b2d864689bc0fc9adfbf690f7_0/FeatureServer/0/query?where=1%3D1&outFields=*&outSR=4326&f=json\")\n",
    "response1995 = requests.get(\"https://opendata.arcgis.com/datasets/f362b8c4652d49d6bbb7a59478132caf_0/FeatureServer/0/query?where=1%3D1&outFields=*&outSR=4326&f=json\")\n",
    "response1992 = requests.get(\"https://opendata.arcgis.com/datasets/a59f7b37fcc540438a63b36035ca0068_0/FeatureServer/0/query?where=1%3D1&outFields=*&outSR=4326&f=json\")\n",
    "response2003 = requests.get(\"https://opendata.arcgis.com/datasets/02223f9066294cadb1737234d5ccc5ab_0/FeatureServer/0/query?where=1%3D1&outFields=*&outSR=4326&f=json\")\n",
    "response2004 = requests.get(\"https://opendata.arcgis.com/datasets/78ab0cb401c349fa95c16b83d7e5d194_0/FeatureServer/0/query?where=1%3D1&outFields=*&outSR=4326&f=json\")\n",
    "response2005 = requests.get(\"https://opendata.arcgis.com/datasets/bde5696c88654b6d84ae5ad7f6c910b6_0/FeatureServer/0/query?where=1%3D1&outFields=*&outSR=4326&f=json\")\n",
    "response1993 = requests.get(\"https://opendata.arcgis.com/datasets/5f3c2930f4e4459ea66c6765a1b3bd88_0/FeatureServer/0/query?where=1%3D1&outFields=*&outSR=4326&f=json\")\n",
    "response2000 = requests.get(\"https://opendata.arcgis.com/datasets/f218c27832da4fa083eb7b7c7dc1afec_0/FeatureServer/0/query?where=1%3D1&outFields=*&outSR=4326&f=json\")\n",
    "response2002 = requests.get(\"https://opendata.arcgis.com/datasets/39f6b9d302354b2bbe044220c10621fd_0/FeatureServer/0/query?where=1%3D1&outFields=*&outSR=4326&f=json\")\n",
    "response2007 = requests.get(\"https://opendata.arcgis.com/datasets/ad3e9afade7a4542839c562adfaff15e_0/FeatureServer/0/query?where=1%3D1&outFields=*&outSR=4326&f=json\")\n",
    "response2008 = requests.get(\"https://opendata.arcgis.com/datasets/ebdd6808d748465689e343427cd8bf2f_0/FeatureServer/0/query?where=1%3D1&outFields=*&outSR=4326&f=json\")\n",
    "response2006 = requests.get(\"https://opendata.arcgis.com/datasets/6b85448141bd4186850540e49189ce9d_0/FeatureServer/0/query?where=1%3D1&outFields=*&outSR=4326&f=json\")\n",
    "response1994 = requests.get(\"https://opendata.arcgis.com/datasets/8c7ecc63062f470ab0793159cd7fbd8b_0/FeatureServer/0/query?where=1%3D1&outFields=*&outSR=4326&f=json\")\n",
    "response1999 = requests.get(\"https://opendata.arcgis.com/datasets/a89b670d719a4d77a9190db4c456be3e_0/FeatureServer/0/query?where=1%3D1&outFields=*&outSR=4326&f=json\")\n",
    "response2001 = requests.get(\"https://opendata.arcgis.com/datasets/a5f9ee5558e94e8fb6db498c1a318863_0/FeatureServer/0/query?where=1%3D1&outFields=*&outSR=4326&f=json\")\n",
    "response2011 = requests.get(\"https://opendata.arcgis.com/datasets/d20e0fe797ac49f2b5033f81f754763d_0/FeatureServer/0/query?where=1%3D1&outFields=*&outSR=4326&f=json\")\n",
    "response2012 = requests.get(\"https://opendata.arcgis.com/datasets/19105a10a66043a0802094650964935d_0/FeatureServer/0/query?where=1%3D1&outFields=*&outSR=4326&f=json\")\n",
    "response2013 = requests.get(\"https://opendata.arcgis.com/datasets/66e434b25b234814831bd46baf9b7619_0/FeatureServer/0/query?where=1%3D1&outFields=*&outSR=4326&f=json\")\n",
    "response2014 = requests.get(\"https://opendata.arcgis.com/datasets/dcd52c58025d4e6dbd6c188362f4322d_0/FeatureServer/0/query?where=1%3D1&outFields=*&outSR=4326&f=json\")\n",
    "response2015 = requests.get(\"https://opendata.arcgis.com/datasets/c4327fc9ba164100a806bc9244b73908_0/FeatureServer/0/query?where=1%3D1&outFields=*&outSR=4326&f=json\")\n",
    "response2016 = requests.get(\"https://opendata.arcgis.com/datasets/31937f8462c347188bb06796f73442df_0/FeatureServer/0/query?where=1%3D1&outFields=*&outSR=4326&f=json\")\n",
    "response2009 = requests.get(\"https://opendata.arcgis.com/datasets/f2ab29afe873498f824492d114f80dc7_0/FeatureServer/0/query?where=1%3D1&outFields=*&outSR=4326&f=json\")\n",
    "responses = [response1993, response1994, response1995, response1996, response1997, response1998, response1999, response2000, response2001, response2002, response2003, response2004, response2005, response2006, response2007, \n",
    "             response2008, response2009, response2010, response2011, response2012, response2013, response2014, response2015, response2016]"
   ]
  },
  {
   "cell_type": "code",
   "execution_count": 4,
   "metadata": {
    "collapsed": true
   },
   "outputs": [],
   "source": [
    "colnames = ['Decision', 'OBJECTID', 'Request_Number', 'Request_Type', 'Source', 'Summary_of_Request']\n",
    "all_df = pd.DataFrame(columns=colnames)\n",
    "# in 2014, some of the columns had an extra ':' afterward, so fix the column headings here\n",
    "for response in responses:\n",
    "    data = response.json()\n",
    "    df = json_normalize(data[\"features\"])\n",
    "    df.columns = colnames\n",
    "    all_df = all_df.append(df, sort=True)\n",
    "kw_df = all_df"
   ]
  },
  {
   "cell_type": "markdown",
   "metadata": {},
   "source": [
    "### Toronto data"
   ]
  },
  {
   "cell_type": "code",
   "execution_count": 5,
   "metadata": {
    "collapsed": false
   },
   "outputs": [],
   "source": [
    "# just keep these columns\n",
    "tor_colnames = ['Request_Number', 'Request_Type', 'Source', 'Summary', 'Disposition', 'Name']\n",
    "tor_df = pd.DataFrame(columns=tor_colnames)\n",
    "for file in os.listdir(\"Toronto_data/requests\"):\n",
    "    if file.endswith(\".xlsx\") or file.endswith(\".xls\"):\n",
    "        #print(file)\n",
    "        tor_data = pd.read_excel(\"Toronto_data/requests/\"+file, header=0)\n",
    "        #print(tor_df.columns)\n",
    "        tor_df = pd.concat([tor_df,tor_data], axis=0, ignore_index=True, sort=True, join_axes=[tor_df.columns])\n",
    "        #print(tor_df.head())\n",
    "# Talk about use of join_axes here. Had thought of going the fuzzywuzzy route, but the most important column, the decision, \n",
    "# was named either 'Disposition' or 'Name' which would not have been caught by the algorithm."
   ]
  },
  {
   "cell_type": "code",
   "execution_count": 6,
   "metadata": {
    "collapsed": false
   },
   "outputs": [
    {
     "name": "stdout",
     "output_type": "stream",
     "text": [
      "Index(['Request_Number', 'Request_Type', 'Source', 'Summary', 'Disposition',\n",
      "       'Name'],\n",
      "      dtype='object')\n",
      "  Request_Number     Request_Type               Source  \\\n",
      "0  AG-2015-00001  General Records               Public   \n",
      "1  AG-2015-00001  General Records               Public   \n",
      "2  AG-2015-00002  General Records               Public   \n",
      "3  AG-2015-00003  General Records  Academic/Researcher   \n",
      "4  AG-2015-00004  General Records             Business   \n",
      "\n",
      "                                             Summary Disposition  \\\n",
      "0  All e-mails to and from Mario Crognale, Direct...         NaN   \n",
      "1  All e-mails to and from Mario Crognale, Direct...         NaN   \n",
      "2  A copy of building department file # 400812-19...         NaN   \n",
      "3  For the period 2004-01-01 to 2014-12-18: -aver...         NaN   \n",
      "4  Copies of all application submitted (including...         NaN   \n",
      "\n",
      "                                  Name  \n",
      "0  Disclosed in Part: Partially Exempt  \n",
      "1  Disclosed in Part: Partially Exempt  \n",
      "2  Disclosed in Part: Partially Exempt  \n",
      "3                        All Disclosed  \n",
      "4                        All Disclosed  \n",
      "Request_Number     274\n",
      "Request_Type       585\n",
      "Source             585\n",
      "Summary              0\n",
      "Disposition       4498\n",
      "Name              6226\n",
      "dtype: int64\n"
     ]
    }
   ],
   "source": [
    "print(tor_df.columns)\n",
    "print(tor_df.head())\n",
    "print(tor_df.isnull().sum())"
   ]
  },
  {
   "cell_type": "code",
   "execution_count": 7,
   "metadata": {
    "collapsed": false
   },
   "outputs": [
    {
     "data": {
      "text/plain": [
       "Request_Number     274\n",
       "Request_Type       585\n",
       "Source             585\n",
       "Summary              0\n",
       "Disposition         25\n",
       "Name              6226\n",
       "dtype: int64"
      ]
     },
     "execution_count": 7,
     "metadata": {},
     "output_type": "execute_result"
    }
   ],
   "source": [
    "# Now let's fill all of the empty 'Disposition' spots with the Name as these columns are either/or\n",
    "tor_df['Disposition'] = tor_df['Disposition'].fillna(tor_df['Name'])\n",
    "tor_df.isnull().sum()"
   ]
  },
  {
   "cell_type": "code",
   "execution_count": 8,
   "metadata": {
    "collapsed": false
   },
   "outputs": [
    {
     "name": "stdout",
     "output_type": "stream",
     "text": [
      "Index(['Request_Number', 'Request_Type', 'Source', 'Summary_of_Request',\n",
      "       'Decision'],\n",
      "      dtype='object')\n"
     ]
    }
   ],
   "source": [
    "tor_df = tor_df.drop(['Name'], axis=1)\n",
    "# Now rename the 'Disposition' and 'Summary' columns so that they match what we have from KW\n",
    "tor_df.columns = ['Request_Number', 'Request_Type', 'Source', 'Summary_of_Request', 'Decision']\n",
    "print(tor_df.columns)"
   ]
  },
  {
   "cell_type": "code",
   "execution_count": 9,
   "metadata": {
    "collapsed": false
   },
   "outputs": [
    {
     "name": "stdout",
     "output_type": "stream",
     "text": [
      "<class 'pandas.core.frame.DataFrame'>\n",
      "RangeIndex: 10699 entries, 0 to 10698\n",
      "Data columns (total 5 columns):\n",
      "Request_Number        10425 non-null object\n",
      "Request_Type          10114 non-null object\n",
      "Source                10114 non-null object\n",
      "Summary_of_Request    10699 non-null object\n",
      "Decision              10674 non-null object\n",
      "dtypes: object(5)\n",
      "memory usage: 418.0+ KB\n"
     ]
    }
   ],
   "source": [
    "tor_df.info()"
   ]
  },
  {
   "cell_type": "code",
   "execution_count": 121,
   "metadata": {
    "collapsed": false
   },
   "outputs": [],
   "source": [
    "# Now let's see if we can combine with KW data\n",
    "all_df = pd.concat([kw_df, tor_df], axis=0, ignore_index=True, sort=True, join_axes=[tor_df.columns])"
   ]
  },
  {
   "cell_type": "code",
   "execution_count": 122,
   "metadata": {
    "collapsed": false
   },
   "outputs": [
    {
     "name": "stdout",
     "output_type": "stream",
     "text": [
      "<class 'pandas.core.frame.DataFrame'>\n",
      "RangeIndex: 11521 entries, 0 to 11520\n",
      "Data columns (total 5 columns):\n",
      "Request_Number        11247 non-null object\n",
      "Request_Type          10936 non-null object\n",
      "Source                10936 non-null object\n",
      "Summary_of_Request    11521 non-null object\n",
      "Decision              11496 non-null object\n",
      "dtypes: object(5)\n",
      "memory usage: 450.1+ KB\n"
     ]
    }
   ],
   "source": [
    "all_df.info()"
   ]
  },
  {
   "cell_type": "code",
   "execution_count": 123,
   "metadata": {
    "collapsed": false
   },
   "outputs": [
    {
     "name": "stdout",
     "output_type": "stream",
     "text": [
      "Disclosed in Part: Partially Exempt                6207\n",
      "All Disclosed                                      2607\n",
      "No Responsive Records Exist                         547\n",
      "No Records Exist                                    395\n",
      "Disclosed in Part: No Records Exist                 329\n",
      "All disclosed                                       238\n",
      "Partly exempted                                     197\n",
      "Nothing Disclosed (exemption)                       181\n",
      "Transferred Out in Full                             165\n",
      "Abandoned/Withdrawn by Applicant                    139\n",
      "Withdrawn                                           116\n",
      "Nothing Disclosed (excluded)                         61\n",
      "No records exist                                     54\n",
      "Information disclosed in part                        50\n",
      "Partly non-existent                                  32\n",
      "Nothing disclosed                                    28\n",
      "No record exists                                     21\n",
      "Nothing Disclosed                                    21\n",
      "All Information disclosed                            16\n",
      "Abandoned After Fee Estimate                         16\n",
      "Forwarded out                                        15\n",
      "Abandoned                                            13\n",
      "All information disclosed                            13\n",
      "No responsive records exist                          11\n",
      "Non-existent                                          3\n",
      "Correction refused                                    3\n",
      "Correction made                                       2\n",
      "All disclosed                                         2\n",
      "Not Applicable                                        2\n",
      "Transferred to Region of Waterloo Public Health       2\n",
      "Statement of disagreement filed                       1\n",
      "Request withdrawn                                     1\n",
      "No additional records exist                           1\n",
      "No information disclosed                              1\n",
      "Correction made in part                               1\n",
      "Correction granted                                    1\n",
      "Deemed Refusal                                        1\n",
      "Transferred                                           1\n",
      " Disclosed in Part: Partially Exempt                  1\n",
      "Disclosed in part/ partly exempt                      1\n",
      "Name: Decision, dtype: int64\n",
      "41\n"
     ]
    }
   ],
   "source": [
    "print(all_df['Decision'].value_counts())\n",
    "print(len(all_df['Decision'].unique()))"
   ]
  },
  {
   "cell_type": "markdown",
   "metadata": {},
   "source": [
    "### Combine these fields using fuzzywuzzy"
   ]
  },
  {
   "cell_type": "code",
   "execution_count": 124,
   "metadata": {
    "collapsed": true
   },
   "outputs": [],
   "source": [
    "all_df['Decision'] = all_df['Decision'].fillna(\"\")"
   ]
  },
  {
   "cell_type": "code",
   "execution_count": 125,
   "metadata": {
    "collapsed": false
   },
   "outputs": [],
   "source": [
    "all_df_clean = all_df.copy()"
   ]
  },
  {
   "cell_type": "code",
   "execution_count": 126,
   "metadata": {
    "collapsed": false
   },
   "outputs": [],
   "source": [
    "for row in all_df['Decision'].unique():\n",
    "    for row2 in all_df['Decision'].unique():\n",
    "        matching_result = fuzz.ratio(row, row2) # could be ratio, partial_ratio, token_set_ratio, token_sort_ratio \n",
    "        if matching_result > 80:\n",
    "            #print(row, row2)\n",
    "            #print(matching_results)\n",
    "            #Combine if match found\n",
    "            all_df_clean['Decision'][all_df_clean['Decision'] == row2] = row"
   ]
  },
  {
   "cell_type": "code",
   "execution_count": 127,
   "metadata": {
    "collapsed": false
   },
   "outputs": [
    {
     "name": "stdout",
     "output_type": "stream",
     "text": [
      " Disclosed in Part: Partially Exempt               6209\n",
      "All Disclosed                                      2847\n",
      "No Responsive Records Exist                         558\n",
      "No Records Exist                                    470\n",
      "Disclosed in Part: No Records Exist                 329\n",
      "Nothing Disclosed (excluded)                        242\n",
      "Partly exempted                                     197\n",
      "Transferred Out in Full                             165\n",
      "Abandoned/Withdrawn by Applicant                    139\n",
      "Withdrawn                                           116\n",
      "Information disclosed in part                        50\n",
      "Nothing Disclosed                                    49\n",
      "Partly non-existent                                  32\n",
      "No information disclosed                             30\n",
      "                                                     25\n",
      "Abandoned After Fee Estimate                         16\n",
      "Forwarded out                                        15\n",
      "Abandoned                                            13\n",
      "Non-existent                                          3\n",
      "Correction refused                                    3\n",
      "Transferred to Region of Waterloo Public Health       2\n",
      "Correction made                                       2\n",
      "Not Applicable                                        2\n",
      "Statement of disagreement filed                       1\n",
      "No additional records exist                           1\n",
      "Request withdrawn                                     1\n",
      "Correction made in part                               1\n",
      "Deemed Refusal                                        1\n",
      "Transferred                                           1\n",
      "Correction granted                                    1\n",
      "Name: Decision, dtype: int64\n",
      "30\n"
     ]
    }
   ],
   "source": [
    "print(all_df_clean['Decision'].value_counts())\n",
    "print(len(all_df_clean['Decision'].unique()))"
   ]
  },
  {
   "cell_type": "markdown",
   "metadata": {},
   "source": [
    "### Compare with other fuzzywuzzy algorithms"
   ]
  },
  {
   "cell_type": "code",
   "execution_count": 128,
   "metadata": {
    "collapsed": false
   },
   "outputs": [],
   "source": [
    "all_df_pr = all_df.copy()"
   ]
  },
  {
   "cell_type": "code",
   "execution_count": 129,
   "metadata": {
    "collapsed": false
   },
   "outputs": [],
   "source": [
    "for row in all_df['Decision'].unique():\n",
    "    for row2 in all_df['Decision'].unique():\n",
    "        matching_result = fuzz.partial_ratio(row, row2) # could be ratio, partial_ratio, token_set_ratio, token_sort_ratio \n",
    "        if matching_result > 80:\n",
    "            #print(row, row2)\n",
    "            #print(matching_results)\n",
    "            #Combine if match found\n",
    "            all_df_pr['Decision'][all_df_pr['Decision'] == row2] = row"
   ]
  },
  {
   "cell_type": "code",
   "execution_count": 130,
   "metadata": {
    "collapsed": false
   },
   "outputs": [
    {
     "name": "stdout",
     "output_type": "stream",
     "text": [
      " Disclosed in Part: Partially Exempt    6208\n",
      "All Disclosed                           2847\n",
      "No Records Exist                        1358\n",
      "Nothing Disclosed                        291\n",
      "Request withdrawn                        256\n",
      "Disclosed in part/ partly exempt         198\n",
      "Transferred Out in Full                  168\n",
      "No information disclosed                  80\n",
      "Non-existent                              35\n",
      "Abandoned/Withdrawn by Applicant          29\n",
      "                                          25\n",
      "Forwarded out                             15\n",
      "Correction made in part                    3\n",
      "Correction refused                         3\n",
      "Not Applicable                             2\n",
      "Correction granted                         1\n",
      "Statement of disagreement filed            1\n",
      "Deemed Refusal                             1\n",
      "Name: Decision, dtype: int64\n",
      "18\n"
     ]
    }
   ],
   "source": [
    "print(all_df_pr['Decision'].value_counts())\n",
    "print(len(all_df_pr['Decision'].unique()))"
   ]
  },
  {
   "cell_type": "markdown",
   "metadata": {},
   "source": [
    "### 'Partial_ratio' seems to be closer to what we want, i.e. the 'abandoned/withdrawn' cases have been nicely combined"
   ]
  },
  {
   "cell_type": "code",
   "execution_count": 131,
   "metadata": {
    "collapsed": true
   },
   "outputs": [],
   "source": [
    "all_df_tsr = all_df.copy()"
   ]
  },
  {
   "cell_type": "code",
   "execution_count": 132,
   "metadata": {
    "collapsed": false
   },
   "outputs": [],
   "source": [
    "for row in all_df['Decision'].unique():\n",
    "    for row2 in all_df['Decision'].unique():\n",
    "        matching_result = fuzz.token_sort_ratio(row, row2) # could be ratio, partial_ratio, token_set_ratio, token_sort_ratio \n",
    "        if matching_result > 80:\n",
    "            #print(row, row2)\n",
    "            #print(matching_results)\n",
    "            #Combine if match found\n",
    "            all_df_tsr['Decision'][all_df_tsr['Decision'] == row2] = row"
   ]
  },
  {
   "cell_type": "code",
   "execution_count": 133,
   "metadata": {
    "collapsed": false
   },
   "outputs": [
    {
     "name": "stdout",
     "output_type": "stream",
     "text": [
      " Disclosed in Part: Partially Exempt               6209\n",
      "All Disclosed                                      2847\n",
      "No Responsive Records Exist                         558\n",
      "No Records Exist                                    470\n",
      "Disclosed in Part: No Records Exist                 329\n",
      "Partly exempted                                     197\n",
      "Nothing Disclosed (exemption)                       181\n",
      "Transferred Out in Full                             165\n",
      "Abandoned/Withdrawn by Applicant                    139\n",
      "Withdrawn                                           116\n",
      "No information disclosed                             80\n",
      "Nothing Disclosed (excluded)                         61\n",
      "Nothing Disclosed                                    49\n",
      "Partly non-existent                                  32\n",
      "                                                     25\n",
      "Abandoned After Fee Estimate                         16\n",
      "Forwarded out                                        15\n",
      "Abandoned                                            13\n",
      "Non-existent                                          3\n",
      "Correction refused                                    3\n",
      "Transferred to Region of Waterloo Public Health       2\n",
      "Correction made                                       2\n",
      "Not Applicable                                        2\n",
      "Correction granted                                    1\n",
      "Deemed Refusal                                        1\n",
      "Correction made in part                               1\n",
      "Request withdrawn                                     1\n",
      "Statement of disagreement filed                       1\n",
      "Transferred                                           1\n",
      "No additional records exist                           1\n",
      "Name: Decision, dtype: int64\n",
      "30\n"
     ]
    }
   ],
   "source": [
    "print(all_df_tsr['Decision'].value_counts())\n",
    "print(len(all_df_tsr['Decision'].unique()))"
   ]
  },
  {
   "cell_type": "markdown",
   "metadata": {},
   "source": [
    "### The same as 'partial_ratio'..."
   ]
  },
  {
   "cell_type": "code",
   "execution_count": 134,
   "metadata": {
    "collapsed": true
   },
   "outputs": [],
   "source": [
    "all_df_tokset = all_df.copy()"
   ]
  },
  {
   "cell_type": "code",
   "execution_count": 135,
   "metadata": {
    "collapsed": false
   },
   "outputs": [],
   "source": [
    "for row in all_df['Decision'].unique():\n",
    "    for row2 in all_df['Decision'].unique():\n",
    "        matching_result = fuzz.token_set_ratio(row, row2) # could be ratio, partial_ratio, token_set_ratio, token_sort_ratio \n",
    "        if matching_result > 80:\n",
    "            #print(row, row2)\n",
    "            #print(matching_results)\n",
    "            #Combine if match found\n",
    "            all_df_tokset['Decision'][all_df_tokset['Decision'] == row2] = row"
   ]
  },
  {
   "cell_type": "code",
   "execution_count": 136,
   "metadata": {
    "collapsed": false
   },
   "outputs": [
    {
     "name": "stdout",
     "output_type": "stream",
     "text": [
      "No Records Exist                    10785\n",
      "Request withdrawn                     256\n",
      "Partly exempted                       197\n",
      "Transferred Out in Full               168\n",
      "Non-existent                           35\n",
      "Abandoned/Withdrawn by Applicant       29\n",
      "                                       25\n",
      "Forwarded out                          15\n",
      "Correction made in part                 3\n",
      "Correction refused                      3\n",
      "Not Applicable                          2\n",
      "Deemed Refusal                          1\n",
      "Correction granted                      1\n",
      "Statement of disagreement filed         1\n",
      "Name: Decision, dtype: int64\n",
      "14\n"
     ]
    }
   ],
   "source": [
    "print(all_df_tokset['Decision'].value_counts())\n",
    "print(len(all_df_tokset['Decision'].unique()))\n",
    "\n",
    "### We've trimmed a few more categories, but the 'All disclosed' branch has been lumped in with 'Nothing Disclosed (excluded)' which obviously won't do"
   ]
  },
  {
   "cell_type": "markdown",
   "metadata": {},
   "source": [
    "### We've trimmed a few more categories, but the 'All disclosed' branch has been lumped in with 'Nothing Disclosed (excluded)' which obviously won't do. Let's use 'partial_ratio' going forward."
   ]
  },
  {
   "cell_type": "markdown",
   "metadata": {},
   "source": [
    "### Still need to combine some cases manually"
   ]
  },
  {
   "cell_type": "code",
   "execution_count": 137,
   "metadata": {
    "collapsed": false
   },
   "outputs": [
    {
     "name": "stdout",
     "output_type": "stream",
     "text": [
      " Disclosed in Part: Partially Exempt    6208\n",
      "All Disclosed                           2847\n",
      "No Records Exist                        1358\n",
      "Nothing Disclosed                        291\n",
      "Request withdrawn                        256\n",
      "Disclosed in part/ partly exempt         198\n",
      "Transferred Out in Full                  168\n",
      "No information disclosed                  80\n",
      "Non-existent                              35\n",
      "Abandoned/Withdrawn by Applicant          29\n",
      "                                          25\n",
      "Forwarded out                             15\n",
      "Correction made in part                    3\n",
      "Correction refused                         3\n",
      "Not Applicable                             2\n",
      "Correction granted                         1\n",
      "Statement of disagreement filed            1\n",
      "Deemed Refusal                             1\n",
      "Name: Decision, dtype: int64\n"
     ]
    }
   ],
   "source": [
    "all_df_pr['Decision'].loc[all_df_pr['Decision'] == \"Non-existent\"] = \"No Records Exist\"\n",
    "all_df_pr['Decision'].loc[all_df_pr['Decision'] == \"No information disclosed \"] = \"Nothing Disclosed\"\n",
    "all_df_pr['Decision'].loc[all_df_pr['Decision'] == \"Disclosed in part/ partly exempt\"] = \" Disclosed in Part: Partially Exempt\""
   ]
  },
  {
   "cell_type": "code",
   "execution_count": 138,
   "metadata": {
    "collapsed": false
   },
   "outputs": [
    {
     "data": {
      "text/plain": [
       " Disclosed in Part: Partially Exempt    6406\n",
       "All Disclosed                           2847\n",
       "No Records Exist                        1393\n",
       "Nothing Disclosed                        371\n",
       "Request withdrawn                        256\n",
       "Transferred Out in Full                  168\n",
       "Abandoned/Withdrawn by Applicant          29\n",
       "                                          25\n",
       "Forwarded out                             15\n",
       "Correction made in part                    3\n",
       "Correction refused                         3\n",
       "Not Applicable                             2\n",
       "Deemed Refusal                             1\n",
       "Correction granted                         1\n",
       "Statement of disagreement filed            1\n",
       "Name: Decision, dtype: int64"
      ]
     },
     "execution_count": 138,
     "metadata": {},
     "output_type": "execute_result"
    }
   ],
   "source": [
    "all_df_pr['Decision'].value_counts()"
   ]
  },
  {
   "cell_type": "markdown",
   "metadata": {},
   "source": [
    "### Restrict to the top 6 decisions"
   ]
  },
  {
   "cell_type": "code",
   "execution_count": 139,
   "metadata": {
    "collapsed": false
   },
   "outputs": [
    {
     "name": "stdout",
     "output_type": "stream",
     "text": [
      " Disclosed in Part: Partially Exempt    6406\n",
      "All Disclosed                           2847\n",
      "No Records Exist                        1393\n",
      "Nothing Disclosed                        371\n",
      "Request withdrawn                        256\n",
      "Transferred Out in Full                  168\n",
      "Name: Decision, dtype: int64\n"
     ]
    }
   ],
   "source": [
    "all_df_top6 = all_df_pr.groupby('Decision').filter(lambda x: len(x) > 100)\n",
    "print(all_df_top6['Decision'].value_counts())\n",
    "categories = all_df_top6['Decision'].value_counts().index.tolist()"
   ]
  },
  {
   "cell_type": "code",
   "execution_count": 140,
   "metadata": {
    "collapsed": false
   },
   "outputs": [
    {
     "name": "stderr",
     "output_type": "stream",
     "text": [
      "/Users/sjones/anaconda/lib/python3.6/site-packages/ipykernel_launcher.py:2: SettingWithCopyWarning: \n",
      "A value is trying to be set on a copy of a slice from a DataFrame.\n",
      "Try using .loc[row_indexer,col_indexer] = value instead\n",
      "\n",
      "See the caveats in the documentation: http://pandas.pydata.org/pandas-docs/stable/indexing.html#indexing-view-versus-copy\n",
      "  \n"
     ]
    }
   ],
   "source": [
    "# encode the target variable as an integer\n",
    "all_df_top6['category_id'] = all_df_top6['Decision'].factorize()[0]"
   ]
  },
  {
   "cell_type": "code",
   "execution_count": 157,
   "metadata": {
    "collapsed": false
   },
   "outputs": [
    {
     "data": {
      "text/html": [
       "<div>\n",
       "<style scoped>\n",
       "    .dataframe tbody tr th:only-of-type {\n",
       "        vertical-align: middle;\n",
       "    }\n",
       "\n",
       "    .dataframe tbody tr th {\n",
       "        vertical-align: top;\n",
       "    }\n",
       "\n",
       "    .dataframe thead th {\n",
       "        text-align: right;\n",
       "    }\n",
       "</style>\n",
       "<table border=\"1\" class=\"dataframe\">\n",
       "  <thead>\n",
       "    <tr style=\"text-align: right;\">\n",
       "      <th></th>\n",
       "      <th>Decision</th>\n",
       "      <th>category_id</th>\n",
       "    </tr>\n",
       "  </thead>\n",
       "  <tbody>\n",
       "    <tr>\n",
       "      <th>0</th>\n",
       "      <td>All Disclosed</td>\n",
       "      <td>0</td>\n",
       "    </tr>\n",
       "    <tr>\n",
       "      <th>1</th>\n",
       "      <td>No Records Exist</td>\n",
       "      <td>1</td>\n",
       "    </tr>\n",
       "    <tr>\n",
       "      <th>2</th>\n",
       "      <td>Disclosed in Part: Partially Exempt</td>\n",
       "      <td>2</td>\n",
       "    </tr>\n",
       "    <tr>\n",
       "      <th>26</th>\n",
       "      <td>Request withdrawn</td>\n",
       "      <td>3</td>\n",
       "    </tr>\n",
       "    <tr>\n",
       "      <th>152</th>\n",
       "      <td>Nothing Disclosed</td>\n",
       "      <td>4</td>\n",
       "    </tr>\n",
       "  </tbody>\n",
       "</table>\n",
       "</div>"
      ],
      "text/plain": [
       "                                 Decision  category_id\n",
       "0                           All Disclosed            0\n",
       "1                        No Records Exist            1\n",
       "2     Disclosed in Part: Partially Exempt            2\n",
       "26                      Request withdrawn            3\n",
       "152                     Nothing Disclosed            4"
      ]
     },
     "execution_count": 157,
     "metadata": {},
     "output_type": "execute_result"
    }
   ],
   "source": [
    "category_id_df = all_df_top6[['Decision', 'category_id']].drop_duplicates().sort_values('category_id')\n",
    "category_id_df.head()"
   ]
  },
  {
   "cell_type": "code",
   "execution_count": 142,
   "metadata": {
    "collapsed": false
   },
   "outputs": [],
   "source": [
    "### Don't need this right now\n",
    "#category_to_id = dict(category_id_df.values)\n",
    "#print(category_to_id)\n",
    "#id_to_category = dict(category_id_df[['category_id', 'Decision']].values)\n",
    "#print(id_to_category)"
   ]
  },
  {
   "cell_type": "code",
   "execution_count": 143,
   "metadata": {
    "collapsed": false
   },
   "outputs": [
    {
     "data": {
      "image/png": "[encoded data removed]",
      "text/plain": [
       "<Figure size 576x432 with 1 Axes>"
      ]
     },
     "metadata": {},
     "output_type": "display_data"
    }
   ],
   "source": [
    "import matplotlib.pyplot as plt\n",
    "fig = plt.figure(figsize=(8,6))\n",
    "all_df_top6.groupby('Decision').Summary_of_Request.count().plot.bar(ylim=0)\n",
    "plt.show()"
   ]
  },
  {
   "cell_type": "code",
   "execution_count": 144,
   "metadata": {
    "collapsed": false
   },
   "outputs": [],
   "source": [
    "# Here is where we might put in upsampling"
   ]
  },
  {
   "cell_type": "code",
   "execution_count": 145,
   "metadata": {
    "collapsed": false
   },
   "outputs": [
    {
     "name": "stderr",
     "output_type": "stream",
     "text": [
      "/Users/sjones/anaconda/lib/python3.6/site-packages/sklearn/feature_extraction/text.py:1089: FutureWarning: Conversion of the second argument of issubdtype from `float` to `np.floating` is deprecated. In future, it will be treated as `np.float64 == np.dtype(float).type`.\n",
      "  if hasattr(X, 'dtype') and np.issubdtype(X.dtype, np.float):\n"
     ]
    },
    {
     "data": {
      "text/plain": [
       "(11441, 6705)"
      ]
     },
     "execution_count": 145,
     "metadata": {},
     "output_type": "execute_result"
    }
   ],
   "source": [
    "from sklearn.feature_extraction.text import TfidfVectorizer\n",
    "\n",
    "tfidf = TfidfVectorizer(sublinear_tf=True, min_df=5, norm='l2', \n",
    "                       encoding='latin-1', ngram_range=(1,2), stop_words='english')\n",
    "\n",
    "features = tfidf.fit_transform(all_df_top6.Summary_of_Request).toarray()\n",
    "labels = all_df_top6.category_id\n",
    "features.shape"
   ]
  },
  {
   "cell_type": "code",
   "execution_count": 159,
   "metadata": {
    "collapsed": false
   },
   "outputs": [],
   "source": [
    "from sklearn.model_selection import train_test_split\n",
    "from sklearn.feature_extraction.text import CountVectorizer\n",
    "from sklearn.feature_extraction.text import TfidfTransformer\n",
    "\n",
    "X_train, X_test, y_train, y_test = train_test_split(all_df_top6['Summary_of_Request'], all_df_top6['Decision'], test_size=0.33, random_state=42, shuffle=True)"
   ]
  },
  {
   "cell_type": "code",
   "execution_count": 147,
   "metadata": {
    "collapsed": false
   },
   "outputs": [],
   "source": [
    "from sklearn.naive_bayes import MultinomialNB\n",
    "from sklearn.svm import LinearSVC\n",
    "from sklearn.ensemble import RandomForestClassifier\n",
    "from sklearn.linear_model import LogisticRegression\n",
    "\n",
    "from sklearn.model_selection import cross_val_score\n",
    "\n",
    "models = [\n",
    "    RandomForestClassifier(n_estimators=200, max_depth=3,\n",
    "                          random_state=0), #, class_weight='balanced'),\n",
    "    LinearSVC(), #class_weight='balanced'),\n",
    "    MultinomialNB(),\n",
    "    LogisticRegression(random_state=0)#, class_weight='balanced'),\n",
    "]\n",
    "CV=5\n",
    "cv_df = pd.DataFrame(index=range(CV * len(models)))\n",
    "entries=[]\n",
    "for model in models:\n",
    "    model_name = model.__class__.__name__\n",
    "    accuracies = cross_val_score(model, features, labels,\n",
    "                                scoring='accuracy', cv=CV)\n",
    "    for fold_idx, accuracy in enumerate(accuracies):\n",
    "        entries.append((model_name, fold_idx, accuracy))\n",
    "cv_df = pd.DataFrame(entries, columns=['model_name', 'fold_idx', 'accuracy'])"
   ]
  },
  {
   "cell_type": "code",
   "execution_count": 148,
   "metadata": {
    "collapsed": false
   },
   "outputs": [
    {
     "name": "stderr",
     "output_type": "stream",
     "text": [
      "/Users/sjones/anaconda/lib/python3.6/site-packages/seaborn/categorical.py:454: FutureWarning: remove_na is deprecated and is a private function. Do not use.\n",
      "  box_data = remove_na(group_data)\n"
     ]
    },
    {
     "data": {
      "image/png": "[encoded data removed]",
      "text/plain": [
       "<Figure size 576x396 with 1 Axes>"
      ]
     },
     "metadata": {},
     "output_type": "display_data"
    },
    {
     "name": "stdout",
     "output_type": "stream",
     "text": [
      "model_name\n",
      "LinearSVC                 0.553828\n",
      "LogisticRegression        0.595331\n",
      "MultinomialNB             0.589216\n",
      "RandomForestClassifier    0.559916\n",
      "Name: accuracy, dtype: float64\n"
     ]
    }
   ],
   "source": [
    "import seaborn as sns\n",
    "\n",
    "sns.boxplot(x='model_name', y='accuracy', data=cv_df)\n",
    "sns.stripplot(x='model_name', y='accuracy', data=cv_df,\n",
    "             size=8, jitter=True, edgecolor=\"gray\", linewidth=2)\n",
    "plt.show()\n",
    "print(cv_df.groupby('model_name').accuracy.mean())"
   ]
  },
  {
   "cell_type": "code",
   "execution_count": 149,
   "metadata": {
    "collapsed": false
   },
   "outputs": [
    {
     "data": {
      "text/plain": [
       "10949    A copy of all building records for {a specifie...\n",
       "1956     Copies of documents from Festival Management C...\n",
       "9595     A copy of the fire report for {a specified add...\n",
       "9551     A copy of the fire report for {a specified add...\n",
       "5116     A copy of the fire report for {a specified add...\n",
       "Name: Summary_of_Request, dtype: object"
      ]
     },
     "execution_count": 149,
     "metadata": {},
     "output_type": "execute_result"
    }
   ],
   "source": [
    "X_train.head()"
   ]
  },
  {
   "cell_type": "code",
   "execution_count": 150,
   "metadata": {
    "collapsed": false,
    "scrolled": true
   },
   "outputs": [],
   "source": [
    "from sklearn.multiclass import OneVsRestClassifier\n",
    "from sklearn.pipeline import Pipeline\n",
    "import spacy\n",
    "from spacy.lang.en import English\n",
    "from nltk.corpus import stopwords\n",
    "from sklearn.feature_extraction.stop_words import ENGLISH_STOP_WORDS\n",
    "from wordcloud import WordCloud, STOPWORDS\n",
    "import string\n",
    "parser = English()\n",
    "STOPLIST = set(stopwords.words('english') + list(ENGLISH_STOP_WORDS)+ list(STOPWORDS))\n",
    "SYMBOLS = \" \".join(string.punctuation).split(\" \") + [\"-\", \"...\", \"”\", \"”\"]\n",
    "\n",
    "def tokenizeText(sample):\n",
    "    tokens = parser(sample)\n",
    "    lemmas = []\n",
    "    for tok in tokens:\n",
    "        lemmas.append(tok.lemma_.lower().strip() if tok.lemma_ != \"-PRON-\" else tok.lower_)\n",
    "    tokens = lemmas\n",
    "    tokens = [tok for tok in tokens if tok not in STOPLIST]\n",
    "    tokens = [tok for tok in tokens if tok not in SYMBOLS]\n",
    "    return tokens"
   ]
  },
  {
   "cell_type": "code",
   "execution_count": 151,
   "metadata": {
    "collapsed": false
   },
   "outputs": [],
   "source": [
    "y_train_dums = pd.get_dummies(y_train)\n",
    "y_test_dums = pd.get_dummies(y_test)"
   ]
  },
  {
   "cell_type": "code",
   "execution_count": 152,
   "metadata": {
    "collapsed": false
   },
   "outputs": [
    {
     "name": "stdout",
     "output_type": "stream",
     "text": [
      " Disclosed in Part: Partially Exempt\n"
     ]
    },
    {
     "name": "stderr",
     "output_type": "stream",
     "text": [
      "/Users/sjones/anaconda/lib/python3.6/site-packages/sklearn/feature_extraction/text.py:1089: FutureWarning: Conversion of the second argument of issubdtype from `float` to `np.floating` is deprecated. In future, it will be treated as `np.float64 == np.dtype(float).type`.\n",
      "  if hasattr(X, 'dtype') and np.issubdtype(X.dtype, np.float):\n",
      "/Users/sjones/anaconda/lib/python3.6/site-packages/sklearn/feature_extraction/text.py:1089: FutureWarning: Conversion of the second argument of issubdtype from `float` to `np.floating` is deprecated. In future, it will be treated as `np.float64 == np.dtype(float).type`.\n",
      "  if hasattr(X, 'dtype') and np.issubdtype(X.dtype, np.float):\n"
     ]
    },
    {
     "name": "stdout",
     "output_type": "stream",
     "text": [
      "Test accuracy is 0.6986228813559322\n",
      "All Disclosed\n"
     ]
    },
    {
     "name": "stderr",
     "output_type": "stream",
     "text": [
      "/Users/sjones/anaconda/lib/python3.6/site-packages/sklearn/feature_extraction/text.py:1089: FutureWarning: Conversion of the second argument of issubdtype from `float` to `np.floating` is deprecated. In future, it will be treated as `np.float64 == np.dtype(float).type`.\n",
      "  if hasattr(X, 'dtype') and np.issubdtype(X.dtype, np.float):\n",
      "/Users/sjones/anaconda/lib/python3.6/site-packages/sklearn/feature_extraction/text.py:1089: FutureWarning: Conversion of the second argument of issubdtype from `float` to `np.floating` is deprecated. In future, it will be treated as `np.float64 == np.dtype(float).type`.\n",
      "  if hasattr(X, 'dtype') and np.issubdtype(X.dtype, np.float):\n"
     ]
    },
    {
     "name": "stdout",
     "output_type": "stream",
     "text": [
      "Test accuracy is 0.7523834745762712\n",
      "No Records Exist\n"
     ]
    },
    {
     "name": "stderr",
     "output_type": "stream",
     "text": [
      "/Users/sjones/anaconda/lib/python3.6/site-packages/sklearn/feature_extraction/text.py:1089: FutureWarning: Conversion of the second argument of issubdtype from `float` to `np.floating` is deprecated. In future, it will be treated as `np.float64 == np.dtype(float).type`.\n",
      "  if hasattr(X, 'dtype') and np.issubdtype(X.dtype, np.float):\n",
      "/Users/sjones/anaconda/lib/python3.6/site-packages/sklearn/feature_extraction/text.py:1089: FutureWarning: Conversion of the second argument of issubdtype from `float` to `np.floating` is deprecated. In future, it will be treated as `np.float64 == np.dtype(float).type`.\n",
      "  if hasattr(X, 'dtype') and np.issubdtype(X.dtype, np.float):\n"
     ]
    },
    {
     "name": "stdout",
     "output_type": "stream",
     "text": [
      "Test accuracy is 0.887447033898305\n",
      "Nothing Disclosed\n"
     ]
    },
    {
     "name": "stderr",
     "output_type": "stream",
     "text": [
      "/Users/sjones/anaconda/lib/python3.6/site-packages/sklearn/feature_extraction/text.py:1089: FutureWarning: Conversion of the second argument of issubdtype from `float` to `np.floating` is deprecated. In future, it will be treated as `np.float64 == np.dtype(float).type`.\n",
      "  if hasattr(X, 'dtype') and np.issubdtype(X.dtype, np.float):\n",
      "/Users/sjones/anaconda/lib/python3.6/site-packages/sklearn/feature_extraction/text.py:1089: FutureWarning: Conversion of the second argument of issubdtype from `float` to `np.floating` is deprecated. In future, it will be treated as `np.float64 == np.dtype(float).type`.\n",
      "  if hasattr(X, 'dtype') and np.issubdtype(X.dtype, np.float):\n"
     ]
    },
    {
     "name": "stdout",
     "output_type": "stream",
     "text": [
      "Test accuracy is 0.9647775423728814\n",
      "Request withdrawn\n"
     ]
    },
    {
     "name": "stderr",
     "output_type": "stream",
     "text": [
      "/Users/sjones/anaconda/lib/python3.6/site-packages/sklearn/feature_extraction/text.py:1089: FutureWarning: Conversion of the second argument of issubdtype from `float` to `np.floating` is deprecated. In future, it will be treated as `np.float64 == np.dtype(float).type`.\n",
      "  if hasattr(X, 'dtype') and np.issubdtype(X.dtype, np.float):\n",
      "/Users/sjones/anaconda/lib/python3.6/site-packages/sklearn/feature_extraction/text.py:1089: FutureWarning: Conversion of the second argument of issubdtype from `float` to `np.floating` is deprecated. In future, it will be treated as `np.float64 == np.dtype(float).type`.\n",
      "  if hasattr(X, 'dtype') and np.issubdtype(X.dtype, np.float):\n"
     ]
    },
    {
     "name": "stdout",
     "output_type": "stream",
     "text": [
      "Test accuracy is 0.9753707627118644\n",
      "Transferred Out in Full\n"
     ]
    },
    {
     "name": "stderr",
     "output_type": "stream",
     "text": [
      "/Users/sjones/anaconda/lib/python3.6/site-packages/sklearn/feature_extraction/text.py:1089: FutureWarning: Conversion of the second argument of issubdtype from `float` to `np.floating` is deprecated. In future, it will be treated as `np.float64 == np.dtype(float).type`.\n",
      "  if hasattr(X, 'dtype') and np.issubdtype(X.dtype, np.float):\n"
     ]
    },
    {
     "name": "stdout",
     "output_type": "stream",
     "text": [
      "Test accuracy is 0.9856991525423728\n"
     ]
    },
    {
     "name": "stderr",
     "output_type": "stream",
     "text": [
      "/Users/sjones/anaconda/lib/python3.6/site-packages/sklearn/feature_extraction/text.py:1089: FutureWarning: Conversion of the second argument of issubdtype from `float` to `np.floating` is deprecated. In future, it will be treated as `np.float64 == np.dtype(float).type`.\n",
      "  if hasattr(X, 'dtype') and np.issubdtype(X.dtype, np.float):\n"
     ]
    }
   ],
   "source": [
    "from sklearn.metrics import accuracy_score\n",
    "\n",
    "NB_pipeline = Pipeline([\n",
    "                ('tfidf', TfidfVectorizer(tokenizer=tokenizeText, stop_words='english')),\n",
    "                ('clf', OneVsRestClassifier(MultinomialNB())),\n",
    "            ])\n",
    "\n",
    "for decision in categories:\n",
    "    print(decision)\n",
    "    NB_pipeline.fit(X_train, y_train_dums[decision])\n",
    "    prediction = NB_pipeline.predict(X_test)    \n",
    "    print('Test accuracy is {}'.format(accuracy_score(y_test_dums[decision], prediction)))"
   ]
  },
  {
   "cell_type": "code",
   "execution_count": 153,
   "metadata": {
    "collapsed": false
   },
   "outputs": [
    {
     "name": "stdout",
     "output_type": "stream",
     "text": [
      " Disclosed in Part: Partially Exempt\n"
     ]
    },
    {
     "name": "stderr",
     "output_type": "stream",
     "text": [
      "/Users/sjones/anaconda/lib/python3.6/site-packages/sklearn/feature_extraction/text.py:1089: FutureWarning: Conversion of the second argument of issubdtype from `float` to `np.floating` is deprecated. In future, it will be treated as `np.float64 == np.dtype(float).type`.\n",
      "  if hasattr(X, 'dtype') and np.issubdtype(X.dtype, np.float):\n",
      "/Users/sjones/anaconda/lib/python3.6/site-packages/sklearn/feature_extraction/text.py:1089: FutureWarning: Conversion of the second argument of issubdtype from `float` to `np.floating` is deprecated. In future, it will be treated as `np.float64 == np.dtype(float).type`.\n",
      "  if hasattr(X, 'dtype') and np.issubdtype(X.dtype, np.float):\n"
     ]
    },
    {
     "name": "stdout",
     "output_type": "stream",
     "text": [
      "Test accuracy is 0.6880296610169492\n",
      "All Disclosed\n"
     ]
    },
    {
     "name": "stderr",
     "output_type": "stream",
     "text": [
      "/Users/sjones/anaconda/lib/python3.6/site-packages/sklearn/feature_extraction/text.py:1089: FutureWarning: Conversion of the second argument of issubdtype from `float` to `np.floating` is deprecated. In future, it will be treated as `np.float64 == np.dtype(float).type`.\n",
      "  if hasattr(X, 'dtype') and np.issubdtype(X.dtype, np.float):\n",
      "/Users/sjones/anaconda/lib/python3.6/site-packages/sklearn/feature_extraction/text.py:1089: FutureWarning: Conversion of the second argument of issubdtype from `float` to `np.floating` is deprecated. In future, it will be treated as `np.float64 == np.dtype(float).type`.\n",
      "  if hasattr(X, 'dtype') and np.issubdtype(X.dtype, np.float):\n"
     ]
    },
    {
     "name": "stdout",
     "output_type": "stream",
     "text": [
      "Test accuracy is 0.7521186440677966\n",
      "No Records Exist\n"
     ]
    },
    {
     "name": "stderr",
     "output_type": "stream",
     "text": [
      "/Users/sjones/anaconda/lib/python3.6/site-packages/sklearn/feature_extraction/text.py:1089: FutureWarning: Conversion of the second argument of issubdtype from `float` to `np.floating` is deprecated. In future, it will be treated as `np.float64 == np.dtype(float).type`.\n",
      "  if hasattr(X, 'dtype') and np.issubdtype(X.dtype, np.float):\n",
      "/Users/sjones/anaconda/lib/python3.6/site-packages/sklearn/feature_extraction/text.py:1089: FutureWarning: Conversion of the second argument of issubdtype from `float` to `np.floating` is deprecated. In future, it will be treated as `np.float64 == np.dtype(float).type`.\n",
      "  if hasattr(X, 'dtype') and np.issubdtype(X.dtype, np.float):\n"
     ]
    },
    {
     "name": "stdout",
     "output_type": "stream",
     "text": [
      "Test accuracy is 0.881885593220339\n",
      "Nothing Disclosed\n"
     ]
    },
    {
     "name": "stderr",
     "output_type": "stream",
     "text": [
      "/Users/sjones/anaconda/lib/python3.6/site-packages/sklearn/feature_extraction/text.py:1089: FutureWarning: Conversion of the second argument of issubdtype from `float` to `np.floating` is deprecated. In future, it will be treated as `np.float64 == np.dtype(float).type`.\n",
      "  if hasattr(X, 'dtype') and np.issubdtype(X.dtype, np.float):\n",
      "/Users/sjones/anaconda/lib/python3.6/site-packages/sklearn/feature_extraction/text.py:1089: FutureWarning: Conversion of the second argument of issubdtype from `float` to `np.floating` is deprecated. In future, it will be treated as `np.float64 == np.dtype(float).type`.\n",
      "  if hasattr(X, 'dtype') and np.issubdtype(X.dtype, np.float):\n"
     ]
    },
    {
     "name": "stdout",
     "output_type": "stream",
     "text": [
      "Test accuracy is 0.9671610169491526\n",
      "Request withdrawn\n"
     ]
    },
    {
     "name": "stderr",
     "output_type": "stream",
     "text": [
      "/Users/sjones/anaconda/lib/python3.6/site-packages/sklearn/feature_extraction/text.py:1089: FutureWarning: Conversion of the second argument of issubdtype from `float` to `np.floating` is deprecated. In future, it will be treated as `np.float64 == np.dtype(float).type`.\n",
      "  if hasattr(X, 'dtype') and np.issubdtype(X.dtype, np.float):\n",
      "/Users/sjones/anaconda/lib/python3.6/site-packages/sklearn/feature_extraction/text.py:1089: FutureWarning: Conversion of the second argument of issubdtype from `float` to `np.floating` is deprecated. In future, it will be treated as `np.float64 == np.dtype(float).type`.\n",
      "  if hasattr(X, 'dtype') and np.issubdtype(X.dtype, np.float):\n"
     ]
    },
    {
     "name": "stdout",
     "output_type": "stream",
     "text": [
      "Test accuracy is 0.9745762711864406\n",
      "Transferred Out in Full\n"
     ]
    },
    {
     "name": "stderr",
     "output_type": "stream",
     "text": [
      "/Users/sjones/anaconda/lib/python3.6/site-packages/sklearn/feature_extraction/text.py:1089: FutureWarning: Conversion of the second argument of issubdtype from `float` to `np.floating` is deprecated. In future, it will be treated as `np.float64 == np.dtype(float).type`.\n",
      "  if hasattr(X, 'dtype') and np.issubdtype(X.dtype, np.float):\n"
     ]
    },
    {
     "name": "stdout",
     "output_type": "stream",
     "text": [
      "Test accuracy is 0.9872881355932204\n"
     ]
    },
    {
     "name": "stderr",
     "output_type": "stream",
     "text": [
      "/Users/sjones/anaconda/lib/python3.6/site-packages/sklearn/feature_extraction/text.py:1089: FutureWarning: Conversion of the second argument of issubdtype from `float` to `np.floating` is deprecated. In future, it will be treated as `np.float64 == np.dtype(float).type`.\n",
      "  if hasattr(X, 'dtype') and np.issubdtype(X.dtype, np.float):\n"
     ]
    }
   ],
   "source": [
    "LSVC_pipeline = Pipeline([\n",
    "                ('tfidf', TfidfVectorizer(tokenizer=tokenizeText, stop_words='english')),\n",
    "                ('clf', OneVsRestClassifier(LinearSVC())),\n",
    "            ])\n",
    "\n",
    "for decision in categories:\n",
    "    print(decision)\n",
    "    LSVC_pipeline.fit(X_train, y_train_dums[decision])\n",
    "    prediction = LSVC_pipeline.predict(X_test)    \n",
    "    print('Test accuracy is {}'.format(accuracy_score(y_test_dums[decision], prediction)))"
   ]
  },
  {
   "cell_type": "code",
   "execution_count": 154,
   "metadata": {
    "collapsed": false
   },
   "outputs": [
    {
     "name": "stdout",
     "output_type": "stream",
     "text": [
      " Disclosed in Part: Partially Exempt\n"
     ]
    },
    {
     "name": "stderr",
     "output_type": "stream",
     "text": [
      "/Users/sjones/anaconda/lib/python3.6/site-packages/sklearn/feature_extraction/text.py:1089: FutureWarning: Conversion of the second argument of issubdtype from `float` to `np.floating` is deprecated. In future, it will be treated as `np.float64 == np.dtype(float).type`.\n",
      "  if hasattr(X, 'dtype') and np.issubdtype(X.dtype, np.float):\n",
      "/Users/sjones/anaconda/lib/python3.6/site-packages/sklearn/feature_extraction/text.py:1089: FutureWarning: Conversion of the second argument of issubdtype from `float` to `np.floating` is deprecated. In future, it will be treated as `np.float64 == np.dtype(float).type`.\n",
      "  if hasattr(X, 'dtype') and np.issubdtype(X.dtype, np.float):\n"
     ]
    },
    {
     "name": "stdout",
     "output_type": "stream",
     "text": [
      "Test accuracy is 0.708156779661017\n",
      "All Disclosed\n"
     ]
    },
    {
     "name": "stderr",
     "output_type": "stream",
     "text": [
      "/Users/sjones/anaconda/lib/python3.6/site-packages/sklearn/feature_extraction/text.py:1089: FutureWarning: Conversion of the second argument of issubdtype from `float` to `np.floating` is deprecated. In future, it will be treated as `np.float64 == np.dtype(float).type`.\n",
      "  if hasattr(X, 'dtype') and np.issubdtype(X.dtype, np.float):\n",
      "/Users/sjones/anaconda/lib/python3.6/site-packages/sklearn/feature_extraction/text.py:1089: FutureWarning: Conversion of the second argument of issubdtype from `float` to `np.floating` is deprecated. In future, it will be treated as `np.float64 == np.dtype(float).type`.\n",
      "  if hasattr(X, 'dtype') and np.issubdtype(X.dtype, np.float):\n"
     ]
    },
    {
     "name": "stdout",
     "output_type": "stream",
     "text": [
      "Test accuracy is 0.7635063559322034\n",
      "No Records Exist\n"
     ]
    },
    {
     "name": "stderr",
     "output_type": "stream",
     "text": [
      "/Users/sjones/anaconda/lib/python3.6/site-packages/sklearn/feature_extraction/text.py:1089: FutureWarning: Conversion of the second argument of issubdtype from `float` to `np.floating` is deprecated. In future, it will be treated as `np.float64 == np.dtype(float).type`.\n",
      "  if hasattr(X, 'dtype') and np.issubdtype(X.dtype, np.float):\n",
      "/Users/sjones/anaconda/lib/python3.6/site-packages/sklearn/feature_extraction/text.py:1089: FutureWarning: Conversion of the second argument of issubdtype from `float` to `np.floating` is deprecated. In future, it will be treated as `np.float64 == np.dtype(float).type`.\n",
      "  if hasattr(X, 'dtype') and np.issubdtype(X.dtype, np.float):\n"
     ]
    },
    {
     "name": "stdout",
     "output_type": "stream",
     "text": [
      "Test accuracy is 0.8895656779661016\n",
      "Nothing Disclosed\n"
     ]
    },
    {
     "name": "stderr",
     "output_type": "stream",
     "text": [
      "/Users/sjones/anaconda/lib/python3.6/site-packages/sklearn/feature_extraction/text.py:1089: FutureWarning: Conversion of the second argument of issubdtype from `float` to `np.floating` is deprecated. In future, it will be treated as `np.float64 == np.dtype(float).type`.\n",
      "  if hasattr(X, 'dtype') and np.issubdtype(X.dtype, np.float):\n",
      "/Users/sjones/anaconda/lib/python3.6/site-packages/sklearn/feature_extraction/text.py:1089: FutureWarning: Conversion of the second argument of issubdtype from `float` to `np.floating` is deprecated. In future, it will be treated as `np.float64 == np.dtype(float).type`.\n",
      "  if hasattr(X, 'dtype') and np.issubdtype(X.dtype, np.float):\n"
     ]
    },
    {
     "name": "stdout",
     "output_type": "stream",
     "text": [
      "Test accuracy is 0.9647775423728814\n",
      "Request withdrawn\n"
     ]
    },
    {
     "name": "stderr",
     "output_type": "stream",
     "text": [
      "/Users/sjones/anaconda/lib/python3.6/site-packages/sklearn/feature_extraction/text.py:1089: FutureWarning: Conversion of the second argument of issubdtype from `float` to `np.floating` is deprecated. In future, it will be treated as `np.float64 == np.dtype(float).type`.\n",
      "  if hasattr(X, 'dtype') and np.issubdtype(X.dtype, np.float):\n",
      "/Users/sjones/anaconda/lib/python3.6/site-packages/sklearn/feature_extraction/text.py:1089: FutureWarning: Conversion of the second argument of issubdtype from `float` to `np.floating` is deprecated. In future, it will be treated as `np.float64 == np.dtype(float).type`.\n",
      "  if hasattr(X, 'dtype') and np.issubdtype(X.dtype, np.float):\n"
     ]
    },
    {
     "name": "stdout",
     "output_type": "stream",
     "text": [
      "Test accuracy is 0.9753707627118644\n",
      "Transferred Out in Full\n"
     ]
    },
    {
     "name": "stderr",
     "output_type": "stream",
     "text": [
      "/Users/sjones/anaconda/lib/python3.6/site-packages/sklearn/feature_extraction/text.py:1089: FutureWarning: Conversion of the second argument of issubdtype from `float` to `np.floating` is deprecated. In future, it will be treated as `np.float64 == np.dtype(float).type`.\n",
      "  if hasattr(X, 'dtype') and np.issubdtype(X.dtype, np.float):\n"
     ]
    },
    {
     "name": "stdout",
     "output_type": "stream",
     "text": [
      "Test accuracy is 0.986228813559322\n"
     ]
    },
    {
     "name": "stderr",
     "output_type": "stream",
     "text": [
      "/Users/sjones/anaconda/lib/python3.6/site-packages/sklearn/feature_extraction/text.py:1089: FutureWarning: Conversion of the second argument of issubdtype from `float` to `np.floating` is deprecated. In future, it will be treated as `np.float64 == np.dtype(float).type`.\n",
      "  if hasattr(X, 'dtype') and np.issubdtype(X.dtype, np.float):\n"
     ]
    }
   ],
   "source": [
    "LR_pipeline = Pipeline([\n",
    "                ('tfidf', TfidfVectorizer(tokenizer=tokenizeText, stop_words='english')),\n",
    "                ('clf', OneVsRestClassifier(LogisticRegression(random_state=0))),\n",
    "            ])\n",
    "\n",
    "for decision in categories:\n",
    "    print(decision)\n",
    "    LR_pipeline.fit(X_train, y_train_dums[decision])\n",
    "    prediction = LR_pipeline.predict(X_test)    \n",
    "    print('Test accuracy is {}'.format(accuracy_score(y_test_dums[decision], prediction)))"
   ]
  },
  {
   "cell_type": "code",
   "execution_count": 155,
   "metadata": {
    "collapsed": false
   },
   "outputs": [
    {
     "name": "stdout",
     "output_type": "stream",
     "text": [
      " Disclosed in Part: Partially Exempt\n"
     ]
    },
    {
     "name": "stderr",
     "output_type": "stream",
     "text": [
      "/Users/sjones/anaconda/lib/python3.6/site-packages/sklearn/feature_extraction/text.py:1089: FutureWarning: Conversion of the second argument of issubdtype from `float` to `np.floating` is deprecated. In future, it will be treated as `np.float64 == np.dtype(float).type`.\n",
      "  if hasattr(X, 'dtype') and np.issubdtype(X.dtype, np.float):\n",
      "/Users/sjones/anaconda/lib/python3.6/site-packages/sklearn/feature_extraction/text.py:1089: FutureWarning: Conversion of the second argument of issubdtype from `float` to `np.floating` is deprecated. In future, it will be treated as `np.float64 == np.dtype(float).type`.\n",
      "  if hasattr(X, 'dtype') and np.issubdtype(X.dtype, np.float):\n"
     ]
    },
    {
     "name": "stdout",
     "output_type": "stream",
     "text": [
      "Test accuracy is 0.5699152542372882\n",
      "All Disclosed\n"
     ]
    },
    {
     "name": "stderr",
     "output_type": "stream",
     "text": [
      "/Users/sjones/anaconda/lib/python3.6/site-packages/sklearn/feature_extraction/text.py:1089: FutureWarning: Conversion of the second argument of issubdtype from `float` to `np.floating` is deprecated. In future, it will be treated as `np.float64 == np.dtype(float).type`.\n",
      "  if hasattr(X, 'dtype') and np.issubdtype(X.dtype, np.float):\n",
      "/Users/sjones/anaconda/lib/python3.6/site-packages/sklearn/feature_extraction/text.py:1089: FutureWarning: Conversion of the second argument of issubdtype from `float` to `np.floating` is deprecated. In future, it will be treated as `np.float64 == np.dtype(float).type`.\n",
      "  if hasattr(X, 'dtype') and np.issubdtype(X.dtype, np.float):\n"
     ]
    },
    {
     "name": "stdout",
     "output_type": "stream",
     "text": [
      "Test accuracy is 0.7478813559322034\n",
      "No Records Exist\n"
     ]
    },
    {
     "name": "stderr",
     "output_type": "stream",
     "text": [
      "/Users/sjones/anaconda/lib/python3.6/site-packages/sklearn/feature_extraction/text.py:1089: FutureWarning: Conversion of the second argument of issubdtype from `float` to `np.floating` is deprecated. In future, it will be treated as `np.float64 == np.dtype(float).type`.\n",
      "  if hasattr(X, 'dtype') and np.issubdtype(X.dtype, np.float):\n",
      "/Users/sjones/anaconda/lib/python3.6/site-packages/sklearn/feature_extraction/text.py:1089: FutureWarning: Conversion of the second argument of issubdtype from `float` to `np.floating` is deprecated. In future, it will be treated as `np.float64 == np.dtype(float).type`.\n",
      "  if hasattr(X, 'dtype') and np.issubdtype(X.dtype, np.float):\n"
     ]
    },
    {
     "name": "stdout",
     "output_type": "stream",
     "text": [
      "Test accuracy is 0.8871822033898306\n",
      "Nothing Disclosed\n"
     ]
    },
    {
     "name": "stderr",
     "output_type": "stream",
     "text": [
      "/Users/sjones/anaconda/lib/python3.6/site-packages/sklearn/feature_extraction/text.py:1089: FutureWarning: Conversion of the second argument of issubdtype from `float` to `np.floating` is deprecated. In future, it will be treated as `np.float64 == np.dtype(float).type`.\n",
      "  if hasattr(X, 'dtype') and np.issubdtype(X.dtype, np.float):\n",
      "/Users/sjones/anaconda/lib/python3.6/site-packages/sklearn/feature_extraction/text.py:1089: FutureWarning: Conversion of the second argument of issubdtype from `float` to `np.floating` is deprecated. In future, it will be treated as `np.float64 == np.dtype(float).type`.\n",
      "  if hasattr(X, 'dtype') and np.issubdtype(X.dtype, np.float):\n"
     ]
    },
    {
     "name": "stdout",
     "output_type": "stream",
     "text": [
      "Test accuracy is 0.9647775423728814\n",
      "Request withdrawn\n"
     ]
    },
    {
     "name": "stderr",
     "output_type": "stream",
     "text": [
      "/Users/sjones/anaconda/lib/python3.6/site-packages/sklearn/feature_extraction/text.py:1089: FutureWarning: Conversion of the second argument of issubdtype from `float` to `np.floating` is deprecated. In future, it will be treated as `np.float64 == np.dtype(float).type`.\n",
      "  if hasattr(X, 'dtype') and np.issubdtype(X.dtype, np.float):\n",
      "/Users/sjones/anaconda/lib/python3.6/site-packages/sklearn/feature_extraction/text.py:1089: FutureWarning: Conversion of the second argument of issubdtype from `float` to `np.floating` is deprecated. In future, it will be treated as `np.float64 == np.dtype(float).type`.\n",
      "  if hasattr(X, 'dtype') and np.issubdtype(X.dtype, np.float):\n"
     ]
    },
    {
     "name": "stdout",
     "output_type": "stream",
     "text": [
      "Test accuracy is 0.9753707627118644\n",
      "Transferred Out in Full\n"
     ]
    },
    {
     "name": "stderr",
     "output_type": "stream",
     "text": [
      "/Users/sjones/anaconda/lib/python3.6/site-packages/sklearn/feature_extraction/text.py:1089: FutureWarning: Conversion of the second argument of issubdtype from `float` to `np.floating` is deprecated. In future, it will be treated as `np.float64 == np.dtype(float).type`.\n",
      "  if hasattr(X, 'dtype') and np.issubdtype(X.dtype, np.float):\n"
     ]
    },
    {
     "name": "stdout",
     "output_type": "stream",
     "text": [
      "Test accuracy is 0.9856991525423728\n"
     ]
    },
    {
     "name": "stderr",
     "output_type": "stream",
     "text": [
      "/Users/sjones/anaconda/lib/python3.6/site-packages/sklearn/feature_extraction/text.py:1089: FutureWarning: Conversion of the second argument of issubdtype from `float` to `np.floating` is deprecated. In future, it will be treated as `np.float64 == np.dtype(float).type`.\n",
      "  if hasattr(X, 'dtype') and np.issubdtype(X.dtype, np.float):\n"
     ]
    }
   ],
   "source": [
    "RF_pipeline = Pipeline([\n",
    "                ('tfidf', TfidfVectorizer(tokenizer=tokenizeText, stop_words='english')),\n",
    "                ('clf', OneVsRestClassifier(RandomForestClassifier(n_estimators=200, max_depth=3,\n",
    "                          random_state=0))),\n",
    "            ])\n",
    "\n",
    "for decision in categories:\n",
    "    print(decision)\n",
    "    RF_pipeline.fit(X_train, y_train_dums[decision])\n",
    "    prediction = RF_pipeline.predict(X_test)    \n",
    "    print('Test accuracy is {}'.format(accuracy_score(y_test_dums[decision], prediction)))"
   ]
  },
  {
   "cell_type": "code",
   "execution_count": 177,
   "metadata": {
    "collapsed": false
   },
   "outputs": [
    {
     "name": "stderr",
     "output_type": "stream",
     "text": [
      "/Users/sjones/anaconda/lib/python3.6/site-packages/sklearn/feature_extraction/text.py:1089: FutureWarning: Conversion of the second argument of issubdtype from `float` to `np.floating` is deprecated. In future, it will be treated as `np.float64 == np.dtype(float).type`.\n",
      "  if hasattr(X, 'dtype') and np.issubdtype(X.dtype, np.float):\n"
     ]
    },
    {
     "data": {
      "text/plain": [
       "0.5466101694915254"
      ]
     },
     "execution_count": 177,
     "metadata": {},
     "output_type": "execute_result"
    }
   ],
   "source": [
    "from sklearn.neighbors import KNeighborsClassifier\n",
    "from mlxtend.plotting import plot_decision_regions\n",
    "\n",
    "knn_pipeline = Pipeline([\n",
    "                ('tfidf', TfidfVectorizer(tokenizer=tokenizeText, stop_words='english')),\n",
    "                ('clf', KNeighborsClassifier(n_neighbors=1)),\n",
    "            ])\n",
    "\n",
    "knn_pipeline.fit(X_train, y_train)\n",
    "\n",
    "#plot_decision_regions(X_train.values, y_train.values, clf=knn)\n",
    "\n",
    "knn_pipeline.score(X_test, y_test)"
   ]
  },
  {
   "cell_type": "code",
   "execution_count": 173,
   "metadata": {
    "collapsed": false
   },
   "outputs": [
    {
     "data": {
      "text/plain": [
       "array([' Disclosed in Part: Partially Exempt', 'No Records Exist',\n",
       "       ' Disclosed in Part: Partially Exempt', ...,\n",
       "       ' Disclosed in Part: Partially Exempt', 'All Disclosed',\n",
       "       ' Disclosed in Part: Partially Exempt'], dtype=object)"
      ]
     },
     "execution_count": 173,
     "metadata": {},
     "output_type": "execute_result"
    }
   ],
   "source": [
    "y_train.values"
   ]
  },
  {
   "cell_type": "code",
   "execution_count": null,
   "metadata": {
    "collapsed": true
   },
   "outputs": [],
   "source": []
  }
 ],
 "metadata": {
  "kernelspec": {
   "display_name": "Python 3",
   "language": "python",
   "name": "python3"
  },
  "language_info": {
   "codemirror_mode": {
    "name": "ipython",
    "version": 3
   },
   "file_extension": ".py",
   "mimetype": "text/x-python",
   "name": "python",
   "nbconvert_exporter": "python",
   "pygments_lexer": "ipython3",
   "version": "3.6.0"
  }
 },
 "nbformat": 4,
 "nbformat_minor": 2
}
