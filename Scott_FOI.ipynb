{
 "cells": [
  {
   "cell_type": "code",
   "execution_count": 2,
   "metadata": {
    "collapsed": false
   },
   "outputs": [],
   "source": [
    "import requests\n",
    "response2010 = requests.get(\"https://opendata.arcgis.com/datasets/a47ef9f046d442808c306dfd59ec2f7c_0/FeatureServer/0/query?where=1%3D1&outFields=*&outSR=4326&f=json\")\n",
    "response1998 = requests.get(\"https://opendata.arcgis.com/datasets/d056d3e23558481bbd99376e1718d0a3_0/FeatureServer/0/query?where=1%3D1&outFields=*&outSR=4326&f=json\")\n",
    "response1997 = requests.get(\"https://opendata.arcgis.com/datasets/fcfa7d6ada794969bbed357e4bd85294_0/FeatureServer/0/query?where=1%3D1&outFields=*&outSR=4326&f=json\")\n",
    "response1996 = requests.get(\"https://opendata.arcgis.com/datasets/76f77c2b2d864689bc0fc9adfbf690f7_0/FeatureServer/0/query?where=1%3D1&outFields=*&outSR=4326&f=json\")\n",
    "response1995 = requests.get(\"https://opendata.arcgis.com/datasets/f362b8c4652d49d6bbb7a59478132caf_0/FeatureServer/0/query?where=1%3D1&outFields=*&outSR=4326&f=json\")\n",
    "response1992 = requests.get(\"https://opendata.arcgis.com/datasets/a59f7b37fcc540438a63b36035ca0068_0/FeatureServer/0/query?where=1%3D1&outFields=*&outSR=4326&f=json\")\n",
    "response2003 = requests.get(\"https://opendata.arcgis.com/datasets/02223f9066294cadb1737234d5ccc5ab_0/FeatureServer/0/query?where=1%3D1&outFields=*&outSR=4326&f=json\")\n",
    "response2004 = requests.get(\"https://opendata.arcgis.com/datasets/78ab0cb401c349fa95c16b83d7e5d194_0/FeatureServer/0/query?where=1%3D1&outFields=*&outSR=4326&f=json\")\n",
    "response2005 = requests.get(\"https://opendata.arcgis.com/datasets/bde5696c88654b6d84ae5ad7f6c910b6_0/FeatureServer/0/query?where=1%3D1&outFields=*&outSR=4326&f=json\")\n",
    "response1993 = requests.get(\"https://opendata.arcgis.com/datasets/5f3c2930f4e4459ea66c6765a1b3bd88_0/FeatureServer/0/query?where=1%3D1&outFields=*&outSR=4326&f=json\")\n",
    "response2000 = requests.get(\"https://opendata.arcgis.com/datasets/f218c27832da4fa083eb7b7c7dc1afec_0/FeatureServer/0/query?where=1%3D1&outFields=*&outSR=4326&f=json\")\n",
    "response2002 = requests.get(\"https://opendata.arcgis.com/datasets/39f6b9d302354b2bbe044220c10621fd_0/FeatureServer/0/query?where=1%3D1&outFields=*&outSR=4326&f=json\")\n",
    "response2007 = requests.get(\"https://opendata.arcgis.com/datasets/ad3e9afade7a4542839c562adfaff15e_0/FeatureServer/0/query?where=1%3D1&outFields=*&outSR=4326&f=json\")\n",
    "response2008 = requests.get(\"https://opendata.arcgis.com/datasets/ebdd6808d748465689e343427cd8bf2f_0/FeatureServer/0/query?where=1%3D1&outFields=*&outSR=4326&f=json\")\n",
    "response2006 = requests.get(\"https://opendata.arcgis.com/datasets/6b85448141bd4186850540e49189ce9d_0/FeatureServer/0/query?where=1%3D1&outFields=*&outSR=4326&f=json\")\n",
    "response1994 = requests.get(\"https://opendata.arcgis.com/datasets/8c7ecc63062f470ab0793159cd7fbd8b_0/FeatureServer/0/query?where=1%3D1&outFields=*&outSR=4326&f=json\")\n",
    "response1999 = requests.get(\"https://opendata.arcgis.com/datasets/a89b670d719a4d77a9190db4c456be3e_0/FeatureServer/0/query?where=1%3D1&outFields=*&outSR=4326&f=json\")\n",
    "response2001 = requests.get(\"https://opendata.arcgis.com/datasets/a5f9ee5558e94e8fb6db498c1a318863_0/FeatureServer/0/query?where=1%3D1&outFields=*&outSR=4326&f=json\")\n",
    "response2011 = requests.get(\"https://opendata.arcgis.com/datasets/d20e0fe797ac49f2b5033f81f754763d_0/FeatureServer/0/query?where=1%3D1&outFields=*&outSR=4326&f=json\")\n",
    "response2012 = requests.get(\"https://opendata.arcgis.com/datasets/19105a10a66043a0802094650964935d_0/FeatureServer/0/query?where=1%3D1&outFields=*&outSR=4326&f=json\")\n",
    "response2013 = requests.get(\"https://opendata.arcgis.com/datasets/66e434b25b234814831bd46baf9b7619_0/FeatureServer/0/query?where=1%3D1&outFields=*&outSR=4326&f=json\")\n",
    "response2014 = requests.get(\"https://opendata.arcgis.com/datasets/dcd52c58025d4e6dbd6c188362f4322d_0/FeatureServer/0/query?where=1%3D1&outFields=*&outSR=4326&f=json\")\n",
    "response2015 = requests.get(\"https://opendata.arcgis.com/datasets/c4327fc9ba164100a806bc9244b73908_0/FeatureServer/0/query?where=1%3D1&outFields=*&outSR=4326&f=json\")\n",
    "response2016 = requests.get(\"https://opendata.arcgis.com/datasets/31937f8462c347188bb06796f73442df_0/FeatureServer/0/query?where=1%3D1&outFields=*&outSR=4326&f=json\")\n",
    "response2009 = requests.get(\"https://opendata.arcgis.com/datasets/f2ab29afe873498f824492d114f80dc7_0/FeatureServer/0/query?where=1%3D1&outFields=*&outSR=4326&f=json\")\n",
    "responses = [response1993, response1994, response1995, response1996, response1997, response1998, response1999, response2000, response2001, response2002, response2003, response2004, response2005, response2006, response2007, \n",
    "             response2008, response2009, response2010, response2011, response2012, response2013, response2014, response2015, response2016]"
   ]
  },
  {
   "cell_type": "code",
   "execution_count": 6,
   "metadata": {
    "collapsed": false
   },
   "outputs": [],
   "source": [
    "import json\n",
    "data2010 = response2010.json()"
   ]
  },
  {
   "cell_type": "code",
   "execution_count": 7,
   "metadata": {
    "collapsed": false
   },
   "outputs": [
    {
     "name": "stdout",
     "output_type": "stream",
     "text": [
      "objectIdFieldName\n",
      "globalIdFieldName\n",
      "hasZ\n",
      "hasM\n",
      "spatialReference\n",
      "fields\n",
      "features\n",
      "exceededTransferLimit\n"
     ]
    }
   ],
   "source": [
    "for key in data2010.keys():\n",
    "    print(key)"
   ]
  },
  {
   "cell_type": "code",
   "execution_count": 8,
   "metadata": {
    "collapsed": false
   },
   "outputs": [
    {
     "name": "stdout",
     "output_type": "stream",
     "text": [
      "{'Request_Number': 2010001, 'Request_Type': 'General Information', 'Source': 'Business', 'Summary_of_Request': 'Phase I environmental site assessment for {address removed}, North Dumfries.', 'Decision': 'No records exist', 'OBJECTID': 0}\n",
      "Phase I environmental site assessment for {address removed}, North Dumfries.\n",
      "29\n"
     ]
    }
   ],
   "source": [
    "print(data2010[\"features\"][0]['attributes'])\n",
    "print(data2010[\"features\"][0]['attributes'][\"Summary_of_Request\"])\n",
    "print(len(data2010[\"features\"]))"
   ]
  },
  {
   "cell_type": "code",
   "execution_count": 9,
   "metadata": {
    "collapsed": false
   },
   "outputs": [
    {
     "name": "stdout",
     "output_type": "stream",
     "text": [
      "{'attributes': {'Request_Number': 2010001, 'Request_Type': 'General Information', 'Source': 'Business', 'Summary_of_Request': 'Phase I environmental site assessment for {address removed}, North Dumfries.', 'Decision': 'No records exist', 'OBJECTID': 0}}\n",
      "{'attributes': {'Request_Number': 2010002, 'Request_Type': 'General Information', 'Source': 'Business', 'Summary_of_Request': 'Phase I environmental site assessment for {address removed}, Cambridge.', 'Decision': 'No records exist', 'OBJECTID': 1}}\n",
      "{'attributes': {'Request_Number': 2010003, 'Request_Type': 'General Information', 'Source': 'Business', 'Summary_of_Request': 'Phase I environmental site assessment for {address removed}, Waterloo.', 'Decision': 'No records exist', 'OBJECTID': 2}}\n",
      "{'attributes': {'Request_Number': 2010004, 'Request_Type': 'General Information', 'Source': 'Public', 'Summary_of_Request': 'Contract issued to {company name removed} related to tender T2009-169 regarding green bin waste.', 'Decision': 'All disclosed', 'OBJECTID': 3}}\n",
      "{'attributes': {'Request_Number': 2010005, 'Request_Type': 'General Information', 'Source': 'Individual by Agent', 'Summary_of_Request': 'Food product complaint investigation for pumpkin loaf purchased at {company name removed}, Kitchener.', 'Decision': 'All disclosed', 'OBJECTID': 4}}\n",
      "{'attributes': {'Request_Number': 2010006, 'Request_Type': 'Personal Information', 'Source': 'Public', 'Summary_of_Request': 'A complete copy of Ontario Works client file for {name removed}.', 'Decision': 'Partly non-existent', 'OBJECTID': 5}}\n",
      "{'attributes': {'Request_Number': 2010007, 'Request_Type': 'General Information', 'Source': 'Business', 'Summary_of_Request': 'Winning bid for blueprinting services for 2010.', 'Decision': 'All disclosed', 'OBJECTID': 6}}\n",
      "{'attributes': {'Request_Number': 2010008, 'Request_Type': 'Personal Information', 'Source': 'Public', 'Summary_of_Request': 'A complete copy of Ontario Works client file for {name removed}.', 'Decision': 'All disclosed', 'OBJECTID': 7}}\n",
      "{'attributes': {'Request_Number': 2010009, 'Request_Type': 'General Information', 'Source': 'Business', 'Summary_of_Request': 'Phase I environmental site assessment {address removed}, Waterloo', 'Decision': 'No records exist', 'OBJECTID': 8}}\n",
      "{'attributes': {'Request_Number': 2010010, 'Request_Type': 'General Information', 'Source': 'Business', 'Summary_of_Request': 'Phase I environmental site assessment for {address removed}, Kitchener.', 'Decision': 'No records exist', 'OBJECTID': 9}}\n",
      "{'attributes': {'Request_Number': 2010011, 'Request_Type': 'General Information', 'Source': 'Business', 'Summary_of_Request': 'Phase I environmental site assessment for {address removed}, Waterloo.', 'Decision': 'No records exist', 'OBJECTID': 10}}\n",
      "{'attributes': {'Request_Number': 2010012, 'Request_Type': 'General Information', 'Source': 'Business by Agent', 'Summary_of_Request': 'Request for Proposal bid of HSI; correspondence and report regarding bid; correspondence and reports relating to {company name removed}.', 'Decision': 'Nothing disclosed', 'OBJECTID': 11}}\n",
      "{'attributes': {'Request_Number': 2010013, 'Request_Type': 'Personal Information', 'Source': 'Individual by Agent', 'Summary_of_Request': 'A complete copy of Ontario Works client file for {name removed}.', 'Decision': 'All disclosed', 'OBJECTID': 12}}\n",
      "{'attributes': {'Request_Number': 2010014, 'Request_Type': 'Personal Health Information/General Information', 'Source': 'Individual by Agent', 'Summary_of_Request': 'Food-borne Illness investigation regarding e. coli 0157 outbreak at {location removed}, Kitchener on October 27, 2008.', 'Decision': 'Partly exempted', 'OBJECTID': 13}}\n",
      "{'attributes': {'Request_Number': 2010015, 'Request_Type': 'Personal Information', 'Source': 'Public', 'Summary_of_Request': 'Records relating to overpayment in Ontario Works client file for {name removed}.', 'Decision': 'Withdrawn', 'OBJECTID': 14}}\n",
      "{'attributes': {'Request_Number': 2010016, 'Request_Type': 'General Information', 'Source': 'Business', 'Summary_of_Request': 'Phase I environmental site assessment for {address removed}, Elmira.', 'Decision': 'Partly exempted', 'OBJECTID': 15}}\n",
      "{'attributes': {'Request_Number': 2010017, 'Request_Type': 'General Information', 'Source': 'Public', 'Summary_of_Request': 'Data related to dental caries within the Region of Waterloo over past 10 years and records regarding the rate of caries in Kitchener verses Waterloo.', 'Decision': 'Partly non-existent', 'OBJECTID': 16}}\n",
      "{'attributes': {'Request_Number': 2010018, 'Request_Type': 'Personal Information', 'Source': 'Public', 'Summary_of_Request': 'A complete copy of Ontario Works client file for {name removed}.', 'Decision': 'Withdrawn', 'OBJECTID': 17}}\n",
      "{'attributes': {'Request_Number': 2010019, 'Request_Type': 'Personal Information', 'Source': 'Public', 'Summary_of_Request': 'Records related to overpayment in Ontario Works client file for {name removed}.', 'Decision': 'All disclosed', 'OBJECTID': 18}}\n",
      "{'attributes': {'Request_Number': 2010020, 'Request_Type': 'General Information', 'Source': 'Business', 'Summary_of_Request': 'Phase I environmental site assessment for {address removed}, Baden.', 'Decision': 'All disclosed', 'OBJECTID': 19}}\n",
      "{'attributes': {'Request_Number': 2010021, 'Request_Type': 'General Information', 'Source': 'Business', 'Summary_of_Request': 'Phase I environmental site assessment for {address removed}, Cambridge.', 'Decision': 'No records exist', 'OBJECTID': 20}}\n",
      "{'attributes': {'Request_Number': 2010022, 'Request_Type': 'Personal Information', 'Source': 'Individual by Agent', 'Summary_of_Request': 'A complete copy of Ontario Works client file for {name removed}.', 'Decision': 'All disclosed', 'OBJECTID': 21}}\n",
      "{'attributes': {'Request_Number': 2010023, 'Request_Type': 'General Information', 'Source': 'Business', 'Summary_of_Request': 'Pricing information for Request for Proposal 2010-044 and 2010-045 for sludge removal and reservoir cleaning.', 'Decision': 'Partly exempted', 'OBJECTID': 22}}\n",
      "{'attributes': {'Request_Number': 2010024, 'Request_Type': 'General Information', 'Source': 'Business', 'Summary_of_Request': 'Snow clearing records for Regional Roads that border Perth County for December 5 and 6, 2008.', 'Decision': 'Partly exempted', 'OBJECTID': 23}}\n",
      "{'attributes': {'Request_Number': 2010025, 'Request_Type': 'General Information', 'Source': 'Business', 'Summary_of_Request': 'Phase I environmental site assessment for {address removed}, Cambridge.', 'Decision': 'All disclosed', 'OBJECTID': 24}}\n",
      "{'attributes': {'Request_Number': 2010026, 'Request_Type': 'General Information', 'Source': 'Public', 'Summary_of_Request': 'Public Health inspections of {address removed}, Waterloo.', 'Decision': 'Withdrawn', 'OBJECTID': 25}}\n",
      "{'attributes': {'Request_Number': 2010027, 'Request_Type': 'General Information', 'Source': 'Business', 'Summary_of_Request': 'Food premise inspection records for {restaurant removed} on 5 specific dates in 2010.', 'Decision': 'All disclosed', 'OBJECTID': 26}}\n",
      "{'attributes': {'Request_Number': 2010028, 'Request_Type': 'General Information', 'Source': 'Business', 'Summary_of_Request': 'Class environmental assessment for {address removed} reconstruction and watermain work in 2004 and 2005.', 'Decision': 'All disclosed', 'OBJECTID': 27}}\n",
      "{'attributes': {'Request_Number': 2011029, 'Request_Type': 'General Information', 'Source': 'Business', 'Summary_of_Request': 'Phase I environmental site assessment for {address removed}, Ayr.', 'Decision': 'All disclosed', 'OBJECTID': 28}}\n"
     ]
    }
   ],
   "source": [
    "for feature in data2010[\"features\"]:\n",
    "    print(feature)"
   ]
  },
  {
   "cell_type": "code",
   "execution_count": 11,
   "metadata": {
    "collapsed": false
   },
   "outputs": [
    {
     "name": "stdout",
     "output_type": "stream",
     "text": [
      "Request_Number\n",
      "Request_Type\n",
      "Source\n",
      "Summary_of_Request\n",
      "Decision\n",
      "OBJECTID\n",
      "Request_Number\n",
      "Request_Type\n",
      "Source\n",
      "Summary_of_Request\n",
      "Decision\n",
      "OBJECTID\n",
      "Request_Number\n",
      "Request_Type\n",
      "Source\n",
      "Summary_of_Request\n",
      "Decision\n",
      "OBJECTID\n",
      "Request_Number\n",
      "Request_Type\n",
      "Source\n",
      "Summary_of_Request\n",
      "Decision\n",
      "OBJECTID\n",
      "Request_Number\n",
      "Request_Type\n",
      "Source\n",
      "Summary_of_Request\n",
      "Decision\n",
      "OBJECTID\n",
      "Request_Number\n",
      "Request_Type\n",
      "Source\n",
      "Summary_of_Request\n",
      "Decision\n",
      "OBJECTID\n",
      "Request_Number\n",
      "Request_Type\n",
      "Source\n",
      "Summary_of_Request\n",
      "Decision\n",
      "OBJECTID\n",
      "Request_Number\n",
      "Request_Type\n",
      "Source\n",
      "Summary_of_Request\n",
      "Decision\n",
      "OBJECTID\n",
      "Request_Number\n",
      "Request_Type\n",
      "Source\n",
      "Summary_of_Request\n",
      "Decision\n",
      "OBJECTID\n",
      "Request_Number\n",
      "Request_Type\n",
      "Source\n",
      "Summary_of_Request\n",
      "Decision\n",
      "OBJECTID\n",
      "Request_Number\n",
      "Request_Type\n",
      "Source\n",
      "Summary_of_Request\n",
      "Decision\n",
      "OBJECTID\n",
      "Request_Number\n",
      "Request_Type\n",
      "Source\n",
      "Summary_of_Request\n",
      "Decision\n",
      "OBJECTID\n",
      "Request_Number\n",
      "Request_Type\n",
      "Source\n",
      "Summary_of_Request\n",
      "Decision\n",
      "OBJECTID\n",
      "Request_Number\n",
      "Request_Type\n",
      "Source\n",
      "Summary_of_Request\n",
      "Decision\n",
      "OBJECTID\n",
      "Request_Number\n",
      "Request_Type\n",
      "Source\n",
      "Summary_of_Request\n",
      "Decision\n",
      "OBJECTID\n",
      "Request_Number\n",
      "Request_Type\n",
      "Source\n",
      "Summary_of_Request\n",
      "Decision\n",
      "OBJECTID\n",
      "Request_Number\n",
      "Request_Type\n",
      "Source\n",
      "Summary_of_Request\n",
      "Decision\n",
      "OBJECTID\n",
      "Request_Number\n",
      "Request_Type\n",
      "Source\n",
      "Summary_of_Request\n",
      "Decision\n",
      "OBJECTID\n",
      "Request_Number\n",
      "Request_Type\n",
      "Source\n",
      "Summary_of_Request\n",
      "Decision\n",
      "OBJECTID\n",
      "Request_Number\n",
      "Request_Type\n",
      "Source\n",
      "Summary_of_Request\n",
      "Decision\n",
      "OBJECTID\n",
      "Request_Number\n",
      "Request_Type\n",
      "Source\n",
      "Summary_of_Request\n",
      "Decision\n",
      "OBJECTID\n",
      "Request_Number\n",
      "Request_Type\n",
      "Source\n",
      "Summary_of_Request\n",
      "Decision\n",
      "OBJECTID\n",
      "Request_Number\n",
      "Request_Type\n",
      "Source\n",
      "Summary_of_Request\n",
      "Decision\n",
      "OBJECTID\n",
      "Request_Number\n",
      "Request_Type\n",
      "Source\n",
      "Summary_of_Request\n",
      "Decision\n",
      "OBJECTID\n",
      "Request_Number\n",
      "Request_Type\n",
      "Source\n",
      "Summary_of_Request\n",
      "Decision\n",
      "OBJECTID\n",
      "Request_Number\n",
      "Request_Type\n",
      "Source\n",
      "Summary_of_Request\n",
      "Decision\n",
      "OBJECTID\n",
      "Request_Number\n",
      "Request_Type\n",
      "Source\n",
      "Summary_of_Request\n",
      "Decision\n",
      "OBJECTID\n",
      "Request_Number\n",
      "Request_Type\n",
      "Source\n",
      "Summary_of_Request\n",
      "Decision\n",
      "OBJECTID\n",
      "Request_Number\n",
      "Request_Type\n",
      "Source\n",
      "Summary_of_Request\n",
      "Decision\n",
      "OBJECTID\n"
     ]
    }
   ],
   "source": [
    "for feature in data2010[\"features\"]:\n",
    "    for attribute in feature['attributes']:\n",
    "        print(attribute)"
   ]
  },
  {
   "cell_type": "code",
   "execution_count": 13,
   "metadata": {
    "collapsed": false
   },
   "outputs": [],
   "source": [
    "import pandas as pd\n",
    "from pandas.io.json import json_normalize\n",
    "df2010 = json_normalize(data2010[\"features\"])"
   ]
  },
  {
   "cell_type": "code",
   "execution_count": 14,
   "metadata": {
    "collapsed": false,
    "scrolled": false
   },
   "outputs": [
    {
     "data": {
      "text/html": [
       "<div>\n",
       "<style scoped>\n",
       "    .dataframe tbody tr th:only-of-type {\n",
       "        vertical-align: middle;\n",
       "    }\n",
       "\n",
       "    .dataframe tbody tr th {\n",
       "        vertical-align: top;\n",
       "    }\n",
       "\n",
       "    .dataframe thead th {\n",
       "        text-align: right;\n",
       "    }\n",
       "</style>\n",
       "<table border=\"1\" class=\"dataframe\">\n",
       "  <thead>\n",
       "    <tr style=\"text-align: right;\">\n",
       "      <th></th>\n",
       "      <th>attributes.Decision</th>\n",
       "      <th>attributes.OBJECTID</th>\n",
       "      <th>attributes.Request_Number</th>\n",
       "      <th>attributes.Request_Type</th>\n",
       "      <th>attributes.Source</th>\n",
       "      <th>attributes.Summary_of_Request</th>\n",
       "    </tr>\n",
       "  </thead>\n",
       "  <tbody>\n",
       "    <tr>\n",
       "      <th>0</th>\n",
       "      <td>No records exist</td>\n",
       "      <td>0</td>\n",
       "      <td>2010001</td>\n",
       "      <td>General Information</td>\n",
       "      <td>Business</td>\n",
       "      <td>Phase I environmental site assessment for {add...</td>\n",
       "    </tr>\n",
       "    <tr>\n",
       "      <th>1</th>\n",
       "      <td>No records exist</td>\n",
       "      <td>1</td>\n",
       "      <td>2010002</td>\n",
       "      <td>General Information</td>\n",
       "      <td>Business</td>\n",
       "      <td>Phase I environmental site assessment for {add...</td>\n",
       "    </tr>\n",
       "    <tr>\n",
       "      <th>2</th>\n",
       "      <td>No records exist</td>\n",
       "      <td>2</td>\n",
       "      <td>2010003</td>\n",
       "      <td>General Information</td>\n",
       "      <td>Business</td>\n",
       "      <td>Phase I environmental site assessment for {add...</td>\n",
       "    </tr>\n",
       "    <tr>\n",
       "      <th>3</th>\n",
       "      <td>All disclosed</td>\n",
       "      <td>3</td>\n",
       "      <td>2010004</td>\n",
       "      <td>General Information</td>\n",
       "      <td>Public</td>\n",
       "      <td>Contract issued to {company name removed} rela...</td>\n",
       "    </tr>\n",
       "    <tr>\n",
       "      <th>4</th>\n",
       "      <td>All disclosed</td>\n",
       "      <td>4</td>\n",
       "      <td>2010005</td>\n",
       "      <td>General Information</td>\n",
       "      <td>Individual by Agent</td>\n",
       "      <td>Food product complaint investigation for pumpk...</td>\n",
       "    </tr>\n",
       "  </tbody>\n",
       "</table>\n",
       "</div>"
      ],
      "text/plain": [
       "  attributes.Decision  attributes.OBJECTID  attributes.Request_Number  \\\n",
       "0    No records exist                    0                    2010001   \n",
       "1    No records exist                    1                    2010002   \n",
       "2    No records exist                    2                    2010003   \n",
       "3       All disclosed                    3                    2010004   \n",
       "4       All disclosed                    4                    2010005   \n",
       "\n",
       "  attributes.Request_Type    attributes.Source  \\\n",
       "0     General Information             Business   \n",
       "1     General Information             Business   \n",
       "2     General Information             Business   \n",
       "3     General Information               Public   \n",
       "4     General Information  Individual by Agent   \n",
       "\n",
       "                       attributes.Summary_of_Request  \n",
       "0  Phase I environmental site assessment for {add...  \n",
       "1  Phase I environmental site assessment for {add...  \n",
       "2  Phase I environmental site assessment for {add...  \n",
       "3  Contract issued to {company name removed} rela...  \n",
       "4  Food product complaint investigation for pumpk...  "
      ]
     },
     "execution_count": 14,
     "metadata": {},
     "output_type": "execute_result"
    }
   ],
   "source": [
    "df2010.head()"
   ]
  },
  {
   "cell_type": "code",
   "execution_count": 17,
   "metadata": {
    "collapsed": false
   },
   "outputs": [],
   "source": [
    "all_df = pd.DataFrame()\n",
    "# in 2014, some of the columns had an extra ':' afterward, so fix the column headings here\n",
    "colnames = ['Decision', 'OBJECTID', 'Request_Number', 'Request_Type', 'Source', 'Summary_of_Request']\n",
    "for response in responses:\n",
    "    data = response.json()\n",
    "    df = json_normalize(data[\"features\"])\n",
    "    df.columns = colnames\n",
    "    all_df = all_df.append(df)"
   ]
  },
  {
   "cell_type": "code",
   "execution_count": 18,
   "metadata": {
    "collapsed": false
   },
   "outputs": [
    {
     "name": "stdout",
     "output_type": "stream",
     "text": [
      "Index(['attributes.Decision', 'attributes.OBJECTID',\n",
      "       'attributes.Request_Number', 'attributes.Request_Type',\n",
      "       'attributes.Source', 'attributes.Summary_of_Request'],\n",
      "      dtype='object')\n",
      "Index(['Decision', 'OBJECTID', 'Request_Number', 'Request_Type', 'Source',\n",
      "       'Summary_of_Request'],\n",
      "      dtype='object')\n",
      "Index([], dtype='object')\n",
      "0\n"
     ]
    }
   ],
   "source": [
    "print(df2010.columns)\n",
    "print(all_df.columns)\n",
    "print(all_df.columns.difference(df.columns))\n",
    "print(len(df.columns.difference(all_df.columns)))"
   ]
  },
  {
   "cell_type": "code",
   "execution_count": 19,
   "metadata": {
    "collapsed": false
   },
   "outputs": [
    {
     "data": {
      "text/html": [
       "<div>\n",
       "<style scoped>\n",
       "    .dataframe tbody tr th:only-of-type {\n",
       "        vertical-align: middle;\n",
       "    }\n",
       "\n",
       "    .dataframe tbody tr th {\n",
       "        vertical-align: top;\n",
       "    }\n",
       "\n",
       "    .dataframe thead th {\n",
       "        text-align: right;\n",
       "    }\n",
       "</style>\n",
       "<table border=\"1\" class=\"dataframe\">\n",
       "  <thead>\n",
       "    <tr style=\"text-align: right;\">\n",
       "      <th></th>\n",
       "      <th>Decision</th>\n",
       "      <th>OBJECTID</th>\n",
       "      <th>Request_Number</th>\n",
       "      <th>Request_Type</th>\n",
       "      <th>Source</th>\n",
       "      <th>Summary_of_Request</th>\n",
       "    </tr>\n",
       "  </thead>\n",
       "  <tbody>\n",
       "    <tr>\n",
       "      <th>0</th>\n",
       "      <td>All disclosed</td>\n",
       "      <td>0</td>\n",
       "      <td>93001</td>\n",
       "      <td>General Information</td>\n",
       "      <td>Public</td>\n",
       "      <td>Notes written by members of the Maintenance Re...</td>\n",
       "    </tr>\n",
       "    <tr>\n",
       "      <th>1</th>\n",
       "      <td>Partly non-existent</td>\n",
       "      <td>1</td>\n",
       "      <td>93002</td>\n",
       "      <td>Personal Information</td>\n",
       "      <td>Individual by Agent</td>\n",
       "      <td>Director's submission regarding SARB appeal an...</td>\n",
       "    </tr>\n",
       "    <tr>\n",
       "      <th>2</th>\n",
       "      <td>Partly exempted</td>\n",
       "      <td>2</td>\n",
       "      <td>93003</td>\n",
       "      <td>Personal Information</td>\n",
       "      <td>Public</td>\n",
       "      <td>Performance evaluations, probationary report, ...</td>\n",
       "    </tr>\n",
       "    <tr>\n",
       "      <th>3</th>\n",
       "      <td>All disclosed</td>\n",
       "      <td>3</td>\n",
       "      <td>93004</td>\n",
       "      <td>Personal Information</td>\n",
       "      <td>Individual by Agent</td>\n",
       "      <td>Details of support assignment on assistance pa...</td>\n",
       "    </tr>\n",
       "    <tr>\n",
       "      <th>4</th>\n",
       "      <td>All disclosed</td>\n",
       "      <td>4</td>\n",
       "      <td>93005</td>\n",
       "      <td>General Information</td>\n",
       "      <td>Public</td>\n",
       "      <td>Weigh slips for landfill truck and ticket issu...</td>\n",
       "    </tr>\n",
       "  </tbody>\n",
       "</table>\n",
       "</div>"
      ],
      "text/plain": [
       "              Decision  OBJECTID  Request_Number          Request_Type  \\\n",
       "0        All disclosed         0           93001   General Information   \n",
       "1  Partly non-existent         1           93002  Personal Information   \n",
       "2      Partly exempted         2           93003  Personal Information   \n",
       "3        All disclosed         3           93004  Personal Information   \n",
       "4        All disclosed         4           93005   General Information   \n",
       "\n",
       "                Source                                 Summary_of_Request  \n",
       "0               Public  Notes written by members of the Maintenance Re...  \n",
       "1  Individual by Agent  Director's submission regarding SARB appeal an...  \n",
       "2               Public  Performance evaluations, probationary report, ...  \n",
       "3  Individual by Agent  Details of support assignment on assistance pa...  \n",
       "4               Public  Weigh slips for landfill truck and ticket issu...  "
      ]
     },
     "execution_count": 19,
     "metadata": {},
     "output_type": "execute_result"
    }
   ],
   "source": [
    "all_df.head()"
   ]
  },
  {
   "cell_type": "markdown",
   "metadata": {},
   "source": [
    "### For now, let's try to predict from Summary_of_Request only"
   ]
  },
  {
   "cell_type": "code",
   "execution_count": 20,
   "metadata": {
    "collapsed": false
   },
   "outputs": [],
   "source": [
    "features = ['Decision', 'Summary_of_Request']\n",
    "all_df = all_df[features]\n",
    "all_df.columns = ['Decision', 'Request_summary']"
   ]
  },
  {
   "cell_type": "code",
   "execution_count": 21,
   "metadata": {
    "collapsed": false
   },
   "outputs": [
    {
     "data": {
      "text/plain": [
       "All disclosed                                      238\n",
       "Partly exempted                                    197\n",
       "Withdrawn                                          116\n",
       "No records exist                                    54\n",
       "Information disclosed in part                       50\n",
       "Partly non-existent                                 32\n",
       "Nothing disclosed                                   28\n",
       "No record exists                                    21\n",
       "All Information disclosed                           16\n",
       "Forwarded out                                       15\n",
       "Abandoned                                           13\n",
       "All information disclosed                           13\n",
       "No responsive records exist                         11\n",
       "Non-existent                                         3\n",
       "Correction refused                                   3\n",
       "All disclosed                                        2\n",
       "Transferred to Region of Waterloo Public Health      2\n",
       "Correction made                                      2\n",
       "No additional records exist                          1\n",
       "Statement of disagreement filed                      1\n",
       "Correction granted                                   1\n",
       "Request withdrawn                                    1\n",
       "No information disclosed                             1\n",
       "Transferred                                          1\n",
       "Name: Decision, dtype: int64"
      ]
     },
     "execution_count": 21,
     "metadata": {},
     "output_type": "execute_result"
    }
   ],
   "source": [
    "all_df['Decision'].value_counts()"
   ]
  },
  {
   "cell_type": "code",
   "execution_count": 22,
   "metadata": {
    "collapsed": false
   },
   "outputs": [
    {
     "name": "stdout",
     "output_type": "stream",
     "text": [
      "<class 'pandas.core.frame.DataFrame'>\n",
      "Int64Index: 822 entries, 0 to 81\n",
      "Data columns (total 2 columns):\n",
      "Decision           822 non-null object\n",
      "Request_summary    822 non-null object\n",
      "dtypes: object(2)\n",
      "memory usage: 19.3+ KB\n"
     ]
    }
   ],
   "source": [
    "all_df.info()"
   ]
  },
  {
   "cell_type": "code",
   "execution_count": 23,
   "metadata": {
    "collapsed": false
   },
   "outputs": [
    {
     "data": {
      "text/plain": [
       "Decision           0\n",
       "Request_summary    0\n",
       "dtype: int64"
      ]
     },
     "execution_count": 23,
     "metadata": {},
     "output_type": "execute_result"
    }
   ],
   "source": [
    "all_df.isnull().sum()"
   ]
  },
  {
   "cell_type": "code",
   "execution_count": 24,
   "metadata": {
    "collapsed": false
   },
   "outputs": [],
   "source": [
    "all_df['Decision'].loc[all_df['Decision'] == \"All information disclosed\"] = \"All disclosed\"\n",
    "all_df['Decision'].loc[all_df['Decision'] == \"All Information disclosed\"] = \"All disclosed\"\n",
    "all_df['Decision'].loc[all_df['Decision'] == \"All disclosed \"] = \"All disclosed\"\n",
    "all_df['Decision'].loc[all_df['Decision'] == \"No record exists\"] = \"No records exist\"\n",
    "all_df['Decision'].loc[all_df['Decision'] == \"No responsive records exist\"] = \"No records exist\"\n",
    "all_df['Decision'].loc[all_df['Decision'] == \"No additional records exist\"] = \"No records exist\"\n",
    "all_df['Decision'].loc[all_df['Decision'] == \"Partly non-existent\"] = \"No records exist\"\n",
    "all_df['Decision'].loc[all_df['Decision'] == \"Non-existent\"] = \"No records exist\"\n",
    "all_df['Decision'].loc[all_df['Decision'] == \"Request withdrawn\"] = \"Withdrawn\"\n",
    "all_df['Decision'].loc[all_df['Decision'] == \"No information disclosed \"] = \"Nothing disclosed\"\n",
    "all_df['Decision'].loc[all_df['Decision'] == \"Transferred\"] = \"Forwarded out\"\n",
    "all_df['Decision'].loc[all_df['Decision'] == \"Transferred to Region of Waterloo Public Health\"] = \"Forwarded out\""
   ]
  },
  {
   "cell_type": "code",
   "execution_count": 25,
   "metadata": {
    "collapsed": false
   },
   "outputs": [
    {
     "name": "stdout",
     "output_type": "stream",
     "text": [
      "All disclosed                    269\n",
      "Partly exempted                  197\n",
      "No records exist                 122\n",
      "Withdrawn                        117\n",
      "Information disclosed in part     50\n",
      "Nothing disclosed                 29\n",
      "Forwarded out                     18\n",
      "Name: Decision, dtype: int64\n"
     ]
    }
   ],
   "source": [
    "all_df['Decision'].value_counts()\n",
    "all_df_over15 = all_df.groupby('Decision').filter(lambda x: len(x) > 15)\n",
    "print(all_df_over15['Decision'].value_counts())"
   ]
  },
  {
   "cell_type": "code",
   "execution_count": 26,
   "metadata": {
    "collapsed": false
   },
   "outputs": [
    {
     "name": "stderr",
     "output_type": "stream",
     "text": [
      "/Users/sjones/anaconda/lib/python3.6/site-packages/ipykernel_launcher.py:3: SettingWithCopyWarning: \n",
      "A value is trying to be set on a copy of a slice from a DataFrame\n",
      "\n",
      "See the caveats in the documentation: http://pandas.pydata.org/pandas-docs/stable/indexing.html#indexing-view-versus-copy\n",
      "  This is separate from the ipykernel package so we can avoid doing imports until\n",
      "/Users/sjones/anaconda/lib/python3.6/site-packages/ipykernel_launcher.py:6: SettingWithCopyWarning: \n",
      "A value is trying to be set on a copy of a slice from a DataFrame\n",
      "\n",
      "See the caveats in the documentation: http://pandas.pydata.org/pandas-docs/stable/indexing.html#indexing-view-versus-copy\n",
      "  \n"
     ]
    },
    {
     "data": {
      "text/plain": [
       "All disclosed        516\n",
       "No records exist     122\n",
       "Nothing disclosed     29\n",
       "Forwarded out         18\n",
       "Name: Decision, dtype: int64"
      ]
     },
     "execution_count": 26,
     "metadata": {},
     "output_type": "execute_result"
    }
   ],
   "source": [
    "# I'm not sure we can predict 'withdrawn'. Further, it looks like 'Partly exempted' and 'Information disclosed in part'\n",
    "# never appear in the same year file. Let's combine them. \n",
    "all_df_over15['Decision'].loc[all_df_over15['Decision'] == \"Information disclosed in part\"] = \"Partly exempted\"\n",
    "all_df_noWith = all_df_over15[all_df_over15['Decision'] != 'Withdrawn']\n",
    "# Let's also try and merge 'partly exempted' and 'all disclosed' to mean 'something disclosed'\n",
    "all_df_noWith['Decision'].loc[all_df_noWith['Decision'] == \"Partly exempted\"] = \"All disclosed\"\n",
    "all_df_noWith['Decision'].value_counts()"
   ]
  },
  {
   "cell_type": "code",
   "execution_count": 27,
   "metadata": {
    "collapsed": false
   },
   "outputs": [
    {
     "name": "stderr",
     "output_type": "stream",
     "text": [
      "/Users/sjones/anaconda/lib/python3.6/site-packages/ipykernel_launcher.py:3: SettingWithCopyWarning: \n",
      "A value is trying to be set on a copy of a slice from a DataFrame\n",
      "\n",
      "See the caveats in the documentation: http://pandas.pydata.org/pandas-docs/stable/indexing.html#indexing-view-versus-copy\n",
      "  This is separate from the ipykernel package so we can avoid doing imports until\n",
      "/Users/sjones/anaconda/lib/python3.6/site-packages/ipykernel_launcher.py:4: SettingWithCopyWarning: \n",
      "A value is trying to be set on a copy of a slice from a DataFrame\n",
      "\n",
      "See the caveats in the documentation: http://pandas.pydata.org/pandas-docs/stable/indexing.html#indexing-view-versus-copy\n",
      "  after removing the cwd from sys.path.\n"
     ]
    }
   ],
   "source": [
    "# But now the classes are too imbalanced. As a last resort, let's try a spam vs. ham scenario: either everything was \n",
    "# disclosed, or it was not\n",
    "all_df_noWith['Decision'].loc[all_df_noWith['Decision'] == \"Forwarded out\"] = \"Nothing disclosed\"\n",
    "all_df_noWith['Decision'].loc[all_df_noWith['Decision'] == \"No records exist\"] = \"Nothing disclosed\""
   ]
  },
  {
   "cell_type": "code",
   "execution_count": 28,
   "metadata": {
    "collapsed": false
   },
   "outputs": [
    {
     "name": "stderr",
     "output_type": "stream",
     "text": [
      "/Users/sjones/anaconda/lib/python3.6/site-packages/ipykernel_launcher.py:2: SettingWithCopyWarning: \n",
      "A value is trying to be set on a copy of a slice from a DataFrame.\n",
      "Try using .loc[row_indexer,col_indexer] = value instead\n",
      "\n",
      "See the caveats in the documentation: http://pandas.pydata.org/pandas-docs/stable/indexing.html#indexing-view-versus-copy\n",
      "  \n"
     ]
    }
   ],
   "source": [
    "# encode the target variable as an integer\n",
    "all_df_noWith['category_id'] = all_df_noWith['Decision'].factorize()[0]"
   ]
  },
  {
   "cell_type": "code",
   "execution_count": 29,
   "metadata": {
    "collapsed": true
   },
   "outputs": [],
   "source": [
    "category_id_df = all_df_noWith[['Decision', 'category_id']].drop_duplicates().sort_values('category_id')"
   ]
  },
  {
   "cell_type": "code",
   "execution_count": 30,
   "metadata": {
    "collapsed": false
   },
   "outputs": [
    {
     "data": {
      "text/html": [
       "<div>\n",
       "<style scoped>\n",
       "    .dataframe tbody tr th:only-of-type {\n",
       "        vertical-align: middle;\n",
       "    }\n",
       "\n",
       "    .dataframe tbody tr th {\n",
       "        vertical-align: top;\n",
       "    }\n",
       "\n",
       "    .dataframe thead th {\n",
       "        text-align: right;\n",
       "    }\n",
       "</style>\n",
       "<table border=\"1\" class=\"dataframe\">\n",
       "  <thead>\n",
       "    <tr style=\"text-align: right;\">\n",
       "      <th></th>\n",
       "      <th>Decision</th>\n",
       "      <th>category_id</th>\n",
       "    </tr>\n",
       "  </thead>\n",
       "  <tbody>\n",
       "    <tr>\n",
       "      <th>0</th>\n",
       "      <td>All disclosed</td>\n",
       "      <td>0</td>\n",
       "    </tr>\n",
       "    <tr>\n",
       "      <th>1</th>\n",
       "      <td>Nothing disclosed</td>\n",
       "      <td>1</td>\n",
       "    </tr>\n",
       "  </tbody>\n",
       "</table>\n",
       "</div>"
      ],
      "text/plain": [
       "            Decision  category_id\n",
       "0      All disclosed            0\n",
       "1  Nothing disclosed            1"
      ]
     },
     "execution_count": 30,
     "metadata": {},
     "output_type": "execute_result"
    }
   ],
   "source": [
    "category_id_df.head()"
   ]
  },
  {
   "cell_type": "code",
   "execution_count": 31,
   "metadata": {
    "collapsed": false
   },
   "outputs": [
    {
     "name": "stdout",
     "output_type": "stream",
     "text": [
      "{'All disclosed': 0, 'Nothing disclosed': 1}\n",
      "{0: 'All disclosed', 1: 'Nothing disclosed'}\n"
     ]
    }
   ],
   "source": [
    "category_to_id = dict(category_id_df.values)\n",
    "print(category_to_id)\n",
    "id_to_category = dict(category_id_df[['category_id', 'Decision']].values)\n",
    "print(id_to_category)"
   ]
  },
  {
   "cell_type": "code",
   "execution_count": 32,
   "metadata": {
    "collapsed": false
   },
   "outputs": [
    {
     "data": {
      "text/html": [
       "<div>\n",
       "<style scoped>\n",
       "    .dataframe tbody tr th:only-of-type {\n",
       "        vertical-align: middle;\n",
       "    }\n",
       "\n",
       "    .dataframe tbody tr th {\n",
       "        vertical-align: top;\n",
       "    }\n",
       "\n",
       "    .dataframe thead th {\n",
       "        text-align: right;\n",
       "    }\n",
       "</style>\n",
       "<table border=\"1\" class=\"dataframe\">\n",
       "  <thead>\n",
       "    <tr style=\"text-align: right;\">\n",
       "      <th></th>\n",
       "      <th>Decision</th>\n",
       "      <th>Request_summary</th>\n",
       "      <th>category_id</th>\n",
       "    </tr>\n",
       "  </thead>\n",
       "  <tbody>\n",
       "    <tr>\n",
       "      <th>0</th>\n",
       "      <td>All disclosed</td>\n",
       "      <td>Notes written by members of the Maintenance Re...</td>\n",
       "      <td>0</td>\n",
       "    </tr>\n",
       "    <tr>\n",
       "      <th>1</th>\n",
       "      <td>Nothing disclosed</td>\n",
       "      <td>Director's submission regarding SARB appeal an...</td>\n",
       "      <td>1</td>\n",
       "    </tr>\n",
       "    <tr>\n",
       "      <th>2</th>\n",
       "      <td>All disclosed</td>\n",
       "      <td>Performance evaluations, probationary report, ...</td>\n",
       "      <td>0</td>\n",
       "    </tr>\n",
       "    <tr>\n",
       "      <th>3</th>\n",
       "      <td>All disclosed</td>\n",
       "      <td>Details of support assignment on assistance pa...</td>\n",
       "      <td>0</td>\n",
       "    </tr>\n",
       "    <tr>\n",
       "      <th>4</th>\n",
       "      <td>All disclosed</td>\n",
       "      <td>Weigh slips for landfill truck and ticket issu...</td>\n",
       "      <td>0</td>\n",
       "    </tr>\n",
       "  </tbody>\n",
       "</table>\n",
       "</div>"
      ],
      "text/plain": [
       "            Decision                                    Request_summary  \\\n",
       "0      All disclosed  Notes written by members of the Maintenance Re...   \n",
       "1  Nothing disclosed  Director's submission regarding SARB appeal an...   \n",
       "2      All disclosed  Performance evaluations, probationary report, ...   \n",
       "3      All disclosed  Details of support assignment on assistance pa...   \n",
       "4      All disclosed  Weigh slips for landfill truck and ticket issu...   \n",
       "\n",
       "   category_id  \n",
       "0            0  \n",
       "1            1  \n",
       "2            0  \n",
       "3            0  \n",
       "4            0  "
      ]
     },
     "execution_count": 32,
     "metadata": {},
     "output_type": "execute_result"
    }
   ],
   "source": [
    "all_df_noWith.head()"
   ]
  },
  {
   "cell_type": "code",
   "execution_count": 33,
   "metadata": {
    "collapsed": false
   },
   "outputs": [
    {
     "data": {
      "image/png": "[encoded data removed]",
      "text/plain": [
       "<Figure size 576x432 with 1 Axes>"
      ]
     },
     "metadata": {},
     "output_type": "display_data"
    }
   ],
   "source": [
    "import matplotlib.pyplot as plt\n",
    "fig = plt.figure(figsize=(8,6))\n",
    "all_df_noWith.groupby('Decision').Request_summary.count().plot.bar(ylim=0)\n",
    "plt.show()"
   ]
  },
  {
   "cell_type": "code",
   "execution_count": 34,
   "metadata": {
    "collapsed": false
   },
   "outputs": [
    {
     "name": "stderr",
     "output_type": "stream",
     "text": [
      "/Users/sjones/anaconda/lib/python3.6/site-packages/sklearn/feature_extraction/text.py:1089: FutureWarning: Conversion of the second argument of issubdtype from `float` to `np.floating` is deprecated. In future, it will be treated as `np.float64 == np.dtype(float).type`.\n",
      "  if hasattr(X, 'dtype') and np.issubdtype(X.dtype, np.float):\n"
     ]
    },
    {
     "data": {
      "text/plain": [
       "(685, 321)"
      ]
     },
     "execution_count": 34,
     "metadata": {},
     "output_type": "execute_result"
    }
   ],
   "source": [
    "from sklearn.feature_extraction.text import TfidfVectorizer\n",
    "\n",
    "tfidf = TfidfVectorizer(sublinear_tf=True, min_df=5, norm='l2', \n",
    "                       encoding='latin-1', ngram_range=(1,2), stop_words='english')\n",
    "\n",
    "features = tfidf.fit_transform(all_df_noWith.Request_summary).toarray()\n",
    "labels = all_df_noWith.category_id\n",
    "features.shape"
   ]
  },
  {
   "cell_type": "code",
   "execution_count": 35,
   "metadata": {
    "collapsed": false
   },
   "outputs": [
    {
     "name": "stdout",
     "output_type": "stream",
     "text": [
      "# 'All disclosed':\n",
      "  . Most correlated unigrams:\n",
      ". site\n",
      ".phase\n",
      "  . Most correlated bigrams:\n",
      ". site assessment\n",
      ".phase environmental\n",
      "# 'Nothing disclosed':\n",
      "  . Most correlated unigrams:\n",
      ". site\n",
      ".phase\n",
      "  . Most correlated bigrams:\n",
      ". site assessment\n",
      ".phase environmental\n"
     ]
    }
   ],
   "source": [
    "from sklearn.feature_selection import chi2\n",
    "import numpy as np\n",
    "\n",
    "N=2\n",
    "for Decision, category_id in sorted(category_to_id.items()):\n",
    "    features_chi2 = chi2(features, labels == category_id)\n",
    "    indices = np.argsort(features_chi2[0])\n",
    "    feature_names = np.array(tfidf.get_feature_names())[indices]\n",
    "    unigrams = [v for v in feature_names if len(v.split(' ')) ==1]\n",
    "    bigrams = [v for v in feature_names if len(v.split(' ')) ==2]\n",
    "    print(\"# '{}':\".format(Decision))\n",
    "    print(\"  . Most correlated unigrams:\\n. {}\".format('\\n.'.join(unigrams[-N:])))\n",
    "    print(\"  . Most correlated bigrams:\\n. {}\".format('\\n.'.join(bigrams[-N:])))"
   ]
  },
  {
   "cell_type": "markdown",
   "metadata": {},
   "source": [
    "### Naive Bayes Classifier"
   ]
  },
  {
   "cell_type": "code",
   "execution_count": 36,
   "metadata": {
    "collapsed": false
   },
   "outputs": [
    {
     "name": "stderr",
     "output_type": "stream",
     "text": [
      "/Users/sjones/anaconda/lib/python3.6/site-packages/sklearn/feature_extraction/text.py:1089: FutureWarning: Conversion of the second argument of issubdtype from `float` to `np.floating` is deprecated. In future, it will be treated as `np.float64 == np.dtype(float).type`.\n",
      "  if hasattr(X, 'dtype') and np.issubdtype(X.dtype, np.float):\n"
     ]
    }
   ],
   "source": [
    "from sklearn.model_selection import train_test_split\n",
    "from sklearn.feature_extraction.text import CountVectorizer\n",
    "from sklearn.feature_extraction.text import TfidfTransformer\n",
    "from sklearn.naive_bayes import MultinomialNB\n",
    "\n",
    "X_train, X_test, y_train, y_test = train_test_split(all_df_noWith['Request_summary'], all_df_noWith['Decision'], random_state=0)\n",
    "count_vect = CountVectorizer()\n",
    "X_train_counts = count_vect.fit_transform(X_train)\n",
    "tfidf_transformer = TfidfTransformer()\n",
    "X_train_tfidf = tfidf_transformer.fit_transform(X_train_counts)\n",
    "\n",
    "clf = MultinomialNB().fit(X_train_tfidf, y_train)"
   ]
  },
  {
   "cell_type": "markdown",
   "metadata": {},
   "source": [
    "### Try our model out with a prediction"
   ]
  },
  {
   "cell_type": "code",
   "execution_count": 37,
   "metadata": {
    "collapsed": false,
    "scrolled": true
   },
   "outputs": [
    {
     "name": "stdout",
     "output_type": "stream",
     "text": [
      "['All disclosed']\n"
     ]
    }
   ],
   "source": [
    "print(clf.predict(count_vect.transform([\"All correspondence related to the traffic accident.\"])))"
   ]
  },
  {
   "cell_type": "code",
   "execution_count": 57,
   "metadata": {
    "collapsed": false
   },
   "outputs": [
    {
     "name": "stderr",
     "output_type": "stream",
     "text": [
      "/Users/sjones/anaconda/lib/python3.6/site-packages/seaborn/categorical.py:454: FutureWarning: remove_na is deprecated and is a private function. Do not use.\n",
      "  box_data = remove_na(group_data)\n"
     ]
    },
    {
     "data": {
      "image/png": "[encoded data removed]",
      "text/plain": [
       "<Figure size 576x396 with 1 Axes>"
      ]
     },
     "metadata": {},
     "output_type": "display_data"
    }
   ],
   "source": [
    "import warnings\n",
    "warnings.filterwarnings(action='once')\n",
    "from sklearn.linear_model import LogisticRegression\n",
    "from sklearn.ensemble import RandomForestClassifier\n",
    "from sklearn.svm import LinearSVC\n",
    "\n",
    "from sklearn.model_selection import cross_val_score\n",
    "\n",
    "models = [\n",
    "    RandomForestClassifier(n_estimators=200, max_depth=3,\n",
    "                          random_state=0, class_weight='balanced'),\n",
    "    LinearSVC(class_weight='balanced'),\n",
    "    MultinomialNB(),\n",
    "    LogisticRegression(random_state=0, class_weight='balanced'),\n",
    "]\n",
    "CV=5\n",
    "cv_df = pd.DataFrame(index=range(CV * len(models)))\n",
    "entries=[]\n",
    "for model in models:\n",
    "    model_name = model.__class__.__name__\n",
    "    accuracies = cross_val_score(model, features, labels,\n",
    "                                scoring='accuracy', cv=CV)\n",
    "    for fold_idx, accuracy in enumerate(accuracies):\n",
    "        entries.append((model_name, fold_idx, accuracy))\n",
    "cv_df = pd.DataFrame(entries, columns=['model_name', 'fold_idx', 'accuracy'])\n",
    "\n",
    "import seaborn as sns\n",
    "\n",
    "sns.boxplot(x='model_name', y='accuracy', data=cv_df)\n",
    "sns.stripplot(x='model_name', y='accuracy', data=cv_df,\n",
    "             size=8, jitter=True, edgecolor=\"gray\", linewidth=2)\n",
    "plt.show()"
   ]
  },
  {
   "cell_type": "code",
   "execution_count": 58,
   "metadata": {
    "collapsed": false
   },
   "outputs": [
    {
     "data": {
      "text/plain": [
       "model_name\n",
       "LinearSVC                 0.621527\n",
       "LogisticRegression        0.662629\n",
       "MultinomialNB             0.741440\n",
       "RandomForestClassifier    0.757659\n",
       "Name: accuracy, dtype: float64"
      ]
     },
     "execution_count": 58,
     "metadata": {},
     "output_type": "execute_result"
    }
   ],
   "source": [
    "cv_df.groupby('model_name').accuracy.mean()"
   ]
  },
  {
   "cell_type": "code",
   "execution_count": 65,
   "metadata": {
    "collapsed": false
   },
   "outputs": [
    {
     "name": "stderr",
     "output_type": "stream",
     "text": [
      "/Users/sjones/anaconda/lib/python3.6/site-packages/seaborn/matrix.py:143: DeprecationWarning: elementwise == comparison failed; this will raise an error in the future.\n",
      "  if xticklabels == []:\n"
     ]
    },
    {
     "data": {
      "image/png": "[encoded data removed]",
      "text/plain": [
       "<Figure size 720x720 with 2 Axes>"
      ]
     },
     "metadata": {},
     "output_type": "display_data"
    },
    {
     "name": "stdout",
     "output_type": "stream",
     "text": [
      "                   precision    recall  f1-score   support\n",
      "\n",
      "    All disclosed       0.79      0.95      0.86       165\n",
      "Nothing disclosed       0.70      0.31      0.43        62\n",
      "\n",
      "      avg / total       0.76      0.78      0.74       227\n",
      "\n"
     ]
    }
   ],
   "source": [
    "model = MultinomialNB()\n",
    "\n",
    "X_train, X_test, y_train, y_test, indices_train, indices_test = train_test_split(features, \n",
    "                                                        labels, all_df_noWith.index, test_size=0.33, random_state=0)\n",
    "model.fit(X_train, y_train)\n",
    "y_pred = model.predict(X_test)\n",
    "\n",
    "from sklearn.metrics import confusion_matrix \n",
    "\n",
    "conf_mat = confusion_matrix(y_test, y_pred)\n",
    "fig, ax = plt.subplots(figsize=(10,10))\n",
    "sns.heatmap(conf_mat, annot=True, fmt='d',\n",
    "           xticklabels=category_id_df.Decision.values,\n",
    "           yticklabels=category_id_df.Decision.values)\n",
    "plt.ylabel('Actual')\n",
    "plt.xlabel('Predicted')\n",
    "plt.show()\n",
    "\n",
    "from sklearn import metrics\n",
    "print(metrics.classification_report(y_test, y_pred,\n",
    "                                   target_names=all_df_noWith['Decision'].unique()))"
   ]
  },
  {
   "cell_type": "code",
   "execution_count": 63,
   "metadata": {
    "collapsed": false,
    "scrolled": true
   },
   "outputs": [
    {
     "name": "stderr",
     "output_type": "stream",
     "text": [
      "/Users/sjones/anaconda/lib/python3.6/site-packages/seaborn/matrix.py:143: DeprecationWarning: elementwise == comparison failed; this will raise an error in the future.\n",
      "  if xticklabels == []:\n"
     ]
    },
    {
     "data": {
      "image/png": "[encoded data removed]",
      "text/plain": [
       "<Figure size 720x720 with 2 Axes>"
      ]
     },
     "metadata": {},
     "output_type": "display_data"
    },
    {
     "name": "stdout",
     "output_type": "stream",
     "text": [
      "                   precision    recall  f1-score   support\n",
      "\n",
      "    All disclosed       0.78      0.96      0.86       165\n",
      "Nothing disclosed       0.72      0.29      0.41        62\n",
      "\n",
      "      avg / total       0.77      0.78      0.74       227\n",
      "\n"
     ]
    }
   ],
   "source": [
    "model = RandomForestClassifier(random_state=0, class_weight='balanced', max_depth=3, n_estimators=200)\n",
    "\n",
    "X_train, X_test, y_train, y_test, indices_train, indices_test = train_test_split(features, \n",
    "                                                        labels, all_df_noWith.index, test_size=0.33, random_state=0)\n",
    "model.fit(X_train, y_train)\n",
    "y_pred = model.predict(X_test)\n",
    "\n",
    "from sklearn.metrics import confusion_matrix \n",
    "\n",
    "conf_mat = confusion_matrix(y_test, y_pred)\n",
    "fig, ax = plt.subplots(figsize=(10,10))\n",
    "sns.heatmap(conf_mat, annot=True, fmt='d',\n",
    "           xticklabels=category_id_df.Decision.values,\n",
    "           yticklabels=category_id_df.Decision.values)\n",
    "plt.ylabel('Actual')\n",
    "plt.xlabel('Predicted')\n",
    "plt.show()\n",
    "\n",
    "from sklearn import metrics\n",
    "print(metrics.classification_report(y_test, y_pred,\n",
    "                                   target_names=all_df_noWith['Decision'].unique()))"
   ]
  },
  {
   "cell_type": "code",
   "execution_count": 62,
   "metadata": {
    "collapsed": false
   },
   "outputs": [
    {
     "name": "stderr",
     "output_type": "stream",
     "text": [
      "/Users/sjones/anaconda/lib/python3.6/site-packages/seaborn/matrix.py:143: DeprecationWarning: elementwise == comparison failed; this will raise an error in the future.\n",
      "  if xticklabels == []:\n"
     ]
    },
    {
     "data": {
      "image/png": "[encoded data removed]",
      "text/plain": [
       "<Figure size 720x720 with 2 Axes>"
      ]
     },
     "metadata": {},
     "output_type": "display_data"
    },
    {
     "name": "stdout",
     "output_type": "stream",
     "text": [
      "                   precision    recall  f1-score   support\n",
      "\n",
      "    All disclosed       0.80      0.82      0.81       165\n",
      "Nothing disclosed       0.49      0.47      0.48        62\n",
      "\n",
      "      avg / total       0.72      0.72      0.72       227\n",
      "\n"
     ]
    }
   ],
   "source": [
    "model = LogisticRegression(random_state=0, class_weight='balanced')\n",
    "\n",
    "X_train, X_test, y_train, y_test, indices_train, indices_test = train_test_split(features, \n",
    "                                                        labels, all_df_noWith.index, test_size=0.33, random_state=0)\n",
    "model.fit(X_train, y_train)\n",
    "y_pred = model.predict(X_test)\n",
    "\n",
    "from sklearn.metrics import confusion_matrix \n",
    "\n",
    "conf_mat = confusion_matrix(y_test, y_pred)\n",
    "fig, ax = plt.subplots(figsize=(10,10))\n",
    "sns.heatmap(conf_mat, annot=True, fmt='d',\n",
    "           xticklabels=category_id_df.Decision.values,\n",
    "           yticklabels=category_id_df.Decision.values)\n",
    "plt.ylabel('Actual')\n",
    "plt.xlabel('Predicted')\n",
    "plt.show()\n",
    "\n",
    "from sklearn import metrics\n",
    "print(metrics.classification_report(y_test, y_pred,\n",
    "                                   target_names=all_df_noWith['Decision'].unique()))"
   ]
  },
  {
   "cell_type": "markdown",
   "metadata": {},
   "source": [
    "### Let's look at where the errors are occurring"
   ]
  },
  {
   "cell_type": "code",
   "execution_count": 42,
   "metadata": {
    "collapsed": false
   },
   "outputs": [
    {
     "name": "stdout",
     "output_type": "stream",
     "text": [
      "'Nothing disclosed' predicted as 'All disclosed' : 33 examples.\n"
     ]
    },
    {
     "data": {
      "text/html": [
       "<div>\n",
       "<style scoped>\n",
       "    .dataframe tbody tr th:only-of-type {\n",
       "        vertical-align: middle;\n",
       "    }\n",
       "\n",
       "    .dataframe tbody tr th {\n",
       "        vertical-align: top;\n",
       "    }\n",
       "\n",
       "    .dataframe thead th {\n",
       "        text-align: right;\n",
       "    }\n",
       "</style>\n",
       "<table border=\"1\" class=\"dataframe\">\n",
       "  <thead>\n",
       "    <tr style=\"text-align: right;\">\n",
       "      <th></th>\n",
       "      <th>Decision</th>\n",
       "      <th>Request_summary</th>\n",
       "    </tr>\n",
       "  </thead>\n",
       "  <tbody>\n",
       "    <tr>\n",
       "      <th>7</th>\n",
       "      <td>All disclosed</td>\n",
       "      <td>Pricing for supplies and rentals regarding the...</td>\n",
       "    </tr>\n",
       "    <tr>\n",
       "      <th>7</th>\n",
       "      <td>All disclosed</td>\n",
       "      <td>A complete copy of Income Maintenance client f...</td>\n",
       "    </tr>\n",
       "    <tr>\n",
       "      <th>7</th>\n",
       "      <td>All disclosed</td>\n",
       "      <td>All personal file records for {name removed} p...</td>\n",
       "    </tr>\n",
       "    <tr>\n",
       "      <th>7</th>\n",
       "      <td>All disclosed</td>\n",
       "      <td>Information concerning decision to deny vocati...</td>\n",
       "    </tr>\n",
       "    <tr>\n",
       "      <th>7</th>\n",
       "      <td>All disclosed</td>\n",
       "      <td>7 information items regarding construction con...</td>\n",
       "    </tr>\n",
       "    <tr>\n",
       "      <th>7</th>\n",
       "      <td>Nothing disclosed</td>\n",
       "      <td>GWA for {name removed} records from January 1,...</td>\n",
       "    </tr>\n",
       "    <tr>\n",
       "      <th>7</th>\n",
       "      <td>All disclosed</td>\n",
       "      <td>Public Health Inspection reports and laborator...</td>\n",
       "    </tr>\n",
       "    <tr>\n",
       "      <th>7</th>\n",
       "      <td>All disclosed</td>\n",
       "      <td>Names of contractors and quotes for Request fo...</td>\n",
       "    </tr>\n",
       "    <tr>\n",
       "      <th>7</th>\n",
       "      <td>All disclosed</td>\n",
       "      <td>Rabies incident report records regarding May 2...</td>\n",
       "    </tr>\n",
       "    <tr>\n",
       "      <th>7</th>\n",
       "      <td>All disclosed</td>\n",
       "      <td>Information about {name removed} and children ...</td>\n",
       "    </tr>\n",
       "    <tr>\n",
       "      <th>7</th>\n",
       "      <td>Nothing disclosed</td>\n",
       "      <td>A complete copy of Ontario Works client file f...</td>\n",
       "    </tr>\n",
       "    <tr>\n",
       "      <th>7</th>\n",
       "      <td>All disclosed</td>\n",
       "      <td>Phase I environmental site assessment {address...</td>\n",
       "    </tr>\n",
       "    <tr>\n",
       "      <th>7</th>\n",
       "      <td>All disclosed</td>\n",
       "      <td>Rights and responsibilities form dated March 2...</td>\n",
       "    </tr>\n",
       "    <tr>\n",
       "      <th>7</th>\n",
       "      <td>All disclosed</td>\n",
       "      <td>Rabies control investigation records affecting...</td>\n",
       "    </tr>\n",
       "    <tr>\n",
       "      <th>7</th>\n",
       "      <td>All disclosed</td>\n",
       "      <td>Transportation Operations records for all road...</td>\n",
       "    </tr>\n",
       "    <tr>\n",
       "      <th>7</th>\n",
       "      <td>Nothing disclosed</td>\n",
       "      <td>Phase I environmental site assessment for {add...</td>\n",
       "    </tr>\n",
       "    <tr>\n",
       "      <th>7</th>\n",
       "      <td>All disclosed</td>\n",
       "      <td>A complete copy of Ontario Works client file f...</td>\n",
       "    </tr>\n",
       "    <tr>\n",
       "      <th>7</th>\n",
       "      <td>All disclosed</td>\n",
       "      <td>Phase I environmental site assessment for {add...</td>\n",
       "    </tr>\n",
       "    <tr>\n",
       "      <th>7</th>\n",
       "      <td>All disclosed</td>\n",
       "      <td>Winning bid for blueprinting services for 2012.</td>\n",
       "    </tr>\n",
       "    <tr>\n",
       "      <th>7</th>\n",
       "      <td>All disclosed</td>\n",
       "      <td>Proposal PQ2012-03 - Preston WWTP; notes, eval...</td>\n",
       "    </tr>\n",
       "    <tr>\n",
       "      <th>7</th>\n",
       "      <td>All disclosed</td>\n",
       "      <td>Complete file regarding {name removed} dog att...</td>\n",
       "    </tr>\n",
       "    <tr>\n",
       "      <th>7</th>\n",
       "      <td>All disclosed</td>\n",
       "      <td>Any environmental records that the Region of W...</td>\n",
       "    </tr>\n",
       "    <tr>\n",
       "      <th>0</th>\n",
       "      <td>All disclosed</td>\n",
       "      <td>Notes written by members of the Maintenance Re...</td>\n",
       "    </tr>\n",
       "    <tr>\n",
       "      <th>0</th>\n",
       "      <td>All disclosed</td>\n",
       "      <td>Quotation Q93-1233 including bidders and bid v...</td>\n",
       "    </tr>\n",
       "    <tr>\n",
       "      <th>0</th>\n",
       "      <td>All disclosed</td>\n",
       "      <td>Home Child Care Provider File for {name removed}.</td>\n",
       "    </tr>\n",
       "    <tr>\n",
       "      <th>0</th>\n",
       "      <td>All disclosed</td>\n",
       "      <td>Scores of other candidates in Competition 95-446.</td>\n",
       "    </tr>\n",
       "    <tr>\n",
       "      <th>0</th>\n",
       "      <td>All disclosed</td>\n",
       "      <td>Information in Income Maintenance file for {na...</td>\n",
       "    </tr>\n",
       "    <tr>\n",
       "      <th>0</th>\n",
       "      <td>All disclosed</td>\n",
       "      <td>GWA file, specifically agreements, cheques and...</td>\n",
       "    </tr>\n",
       "    <tr>\n",
       "      <th>0</th>\n",
       "      <td>All disclosed</td>\n",
       "      <td>Minutes of Service Delivery Subcommittee of ES...</td>\n",
       "    </tr>\n",
       "    <tr>\n",
       "      <th>0</th>\n",
       "      <td>All disclosed</td>\n",
       "      <td>Social Assistance client file for {name remove...</td>\n",
       "    </tr>\n",
       "    <tr>\n",
       "      <th>...</th>\n",
       "      <td>...</td>\n",
       "      <td>...</td>\n",
       "    </tr>\n",
       "    <tr>\n",
       "      <th>10</th>\n",
       "      <td>All disclosed</td>\n",
       "      <td>Rabies control records from an incident occurr...</td>\n",
       "    </tr>\n",
       "    <tr>\n",
       "      <th>10</th>\n",
       "      <td>Nothing disclosed</td>\n",
       "      <td>Four records of correspondence from Ontario Wo...</td>\n",
       "    </tr>\n",
       "    <tr>\n",
       "      <th>10</th>\n",
       "      <td>All disclosed</td>\n",
       "      <td>Collision database in electronic form.</td>\n",
       "    </tr>\n",
       "    <tr>\n",
       "      <th>10</th>\n",
       "      <td>All disclosed</td>\n",
       "      <td>Work orders and invoices for two companies: {c...</td>\n",
       "    </tr>\n",
       "    <tr>\n",
       "      <th>10</th>\n",
       "      <td>Nothing disclosed</td>\n",
       "      <td>Phase I environmental site assessment for {add...</td>\n",
       "    </tr>\n",
       "    <tr>\n",
       "      <th>10</th>\n",
       "      <td>Nothing disclosed</td>\n",
       "      <td>Phase I environmental site assessment for {add...</td>\n",
       "    </tr>\n",
       "    <tr>\n",
       "      <th>10</th>\n",
       "      <td>Nothing disclosed</td>\n",
       "      <td>Receipt provided to Ontario Works client {name...</td>\n",
       "    </tr>\n",
       "    <tr>\n",
       "      <th>10</th>\n",
       "      <td>All disclosed</td>\n",
       "      <td>A complete copy of Ontario Works client file f...</td>\n",
       "    </tr>\n",
       "    <tr>\n",
       "      <th>10</th>\n",
       "      <td>Nothing disclosed</td>\n",
       "      <td>A complete copy of Ontario Works client file f...</td>\n",
       "    </tr>\n",
       "    <tr>\n",
       "      <th>10</th>\n",
       "      <td>All disclosed</td>\n",
       "      <td>A list of company names and addresses that wer...</td>\n",
       "    </tr>\n",
       "    <tr>\n",
       "      <th>16</th>\n",
       "      <td>All disclosed</td>\n",
       "      <td>Supervisor/Manager notes for {name removed}.</td>\n",
       "    </tr>\n",
       "    <tr>\n",
       "      <th>16</th>\n",
       "      <td>All disclosed</td>\n",
       "      <td>Assessment roll information for Kitchener, Wat...</td>\n",
       "    </tr>\n",
       "    <tr>\n",
       "      <th>16</th>\n",
       "      <td>Nothing disclosed</td>\n",
       "      <td>Plans, diagrams, and related information regar...</td>\n",
       "    </tr>\n",
       "    <tr>\n",
       "      <th>16</th>\n",
       "      <td>All disclosed</td>\n",
       "      <td>List of restaurants inspected by Healthy Envir...</td>\n",
       "    </tr>\n",
       "    <tr>\n",
       "      <th>16</th>\n",
       "      <td>All disclosed</td>\n",
       "      <td>Environmental Enforcement Services file on {lo...</td>\n",
       "    </tr>\n",
       "    <tr>\n",
       "      <th>16</th>\n",
       "      <td>All disclosed</td>\n",
       "      <td>Minutes and notes relating to {name removed} m...</td>\n",
       "    </tr>\n",
       "    <tr>\n",
       "      <th>16</th>\n",
       "      <td>All disclosed</td>\n",
       "      <td>Public Health inspections, complaints and viol...</td>\n",
       "    </tr>\n",
       "    <tr>\n",
       "      <th>16</th>\n",
       "      <td>Nothing disclosed</td>\n",
       "      <td>Information regarding speed detection unit use...</td>\n",
       "    </tr>\n",
       "    <tr>\n",
       "      <th>16</th>\n",
       "      <td>Nothing disclosed</td>\n",
       "      <td>Email sent by {name removed} to CUPE members w...</td>\n",
       "    </tr>\n",
       "    <tr>\n",
       "      <th>16</th>\n",
       "      <td>All disclosed</td>\n",
       "      <td>Phase I environmental site assessment for {add...</td>\n",
       "    </tr>\n",
       "    <tr>\n",
       "      <th>16</th>\n",
       "      <td>All disclosed</td>\n",
       "      <td>A copy of Ontario Works client file for (name ...</td>\n",
       "    </tr>\n",
       "    <tr>\n",
       "      <th>16</th>\n",
       "      <td>All disclosed</td>\n",
       "      <td>Signal light sequence and timing at {intersect...</td>\n",
       "    </tr>\n",
       "    <tr>\n",
       "      <th>16</th>\n",
       "      <td>Nothing disclosed</td>\n",
       "      <td>A complete copy of Ontario Works client file f...</td>\n",
       "    </tr>\n",
       "    <tr>\n",
       "      <th>16</th>\n",
       "      <td>All disclosed</td>\n",
       "      <td>Rabies control investigation file.</td>\n",
       "    </tr>\n",
       "    <tr>\n",
       "      <th>16</th>\n",
       "      <td>All disclosed</td>\n",
       "      <td>Phase I environmental site assessment for {loc...</td>\n",
       "    </tr>\n",
       "    <tr>\n",
       "      <th>16</th>\n",
       "      <td>Nothing disclosed</td>\n",
       "      <td>Data related to dental caries within the Regio...</td>\n",
       "    </tr>\n",
       "    <tr>\n",
       "      <th>16</th>\n",
       "      <td>All disclosed</td>\n",
       "      <td>List of companies paying a sewer surcharge for...</td>\n",
       "    </tr>\n",
       "    <tr>\n",
       "      <th>16</th>\n",
       "      <td>All disclosed</td>\n",
       "      <td>Identity and affiliation of freedom of informa...</td>\n",
       "    </tr>\n",
       "    <tr>\n",
       "      <th>16</th>\n",
       "      <td>Nothing disclosed</td>\n",
       "      <td>A complete copy of Ontario Works client file f...</td>\n",
       "    </tr>\n",
       "    <tr>\n",
       "      <th>16</th>\n",
       "      <td>All disclosed</td>\n",
       "      <td>Hopewell now Bentall Developments � BMP Agreem...</td>\n",
       "    </tr>\n",
       "  </tbody>\n",
       "</table>\n",
       "<p>608 rows × 2 columns</p>\n",
       "</div>"
      ],
      "text/plain": [
       "             Decision                                    Request_summary\n",
       "7       All disclosed  Pricing for supplies and rentals regarding the...\n",
       "7       All disclosed  A complete copy of Income Maintenance client f...\n",
       "7       All disclosed  All personal file records for {name removed} p...\n",
       "7       All disclosed  Information concerning decision to deny vocati...\n",
       "7       All disclosed  7 information items regarding construction con...\n",
       "7   Nothing disclosed  GWA for {name removed} records from January 1,...\n",
       "7       All disclosed  Public Health Inspection reports and laborator...\n",
       "7       All disclosed  Names of contractors and quotes for Request fo...\n",
       "7       All disclosed  Rabies incident report records regarding May 2...\n",
       "7       All disclosed  Information about {name removed} and children ...\n",
       "7   Nothing disclosed  A complete copy of Ontario Works client file f...\n",
       "7       All disclosed  Phase I environmental site assessment {address...\n",
       "7       All disclosed  Rights and responsibilities form dated March 2...\n",
       "7       All disclosed  Rabies control investigation records affecting...\n",
       "7       All disclosed  Transportation Operations records for all road...\n",
       "7   Nothing disclosed  Phase I environmental site assessment for {add...\n",
       "7       All disclosed  A complete copy of Ontario Works client file f...\n",
       "7       All disclosed  Phase I environmental site assessment for {add...\n",
       "7       All disclosed    Winning bid for blueprinting services for 2012.\n",
       "7       All disclosed  Proposal PQ2012-03 - Preston WWTP; notes, eval...\n",
       "7       All disclosed  Complete file regarding {name removed} dog att...\n",
       "7       All disclosed  Any environmental records that the Region of W...\n",
       "0       All disclosed  Notes written by members of the Maintenance Re...\n",
       "0       All disclosed  Quotation Q93-1233 including bidders and bid v...\n",
       "0       All disclosed  Home Child Care Provider File for {name removed}.\n",
       "0       All disclosed  Scores of other candidates in Competition 95-446.\n",
       "0       All disclosed  Information in Income Maintenance file for {na...\n",
       "0       All disclosed  GWA file, specifically agreements, cheques and...\n",
       "0       All disclosed  Minutes of Service Delivery Subcommittee of ES...\n",
       "0       All disclosed  Social Assistance client file for {name remove...\n",
       "..                ...                                                ...\n",
       "10      All disclosed  Rabies control records from an incident occurr...\n",
       "10  Nothing disclosed  Four records of correspondence from Ontario Wo...\n",
       "10      All disclosed             Collision database in electronic form.\n",
       "10      All disclosed  Work orders and invoices for two companies: {c...\n",
       "10  Nothing disclosed  Phase I environmental site assessment for {add...\n",
       "10  Nothing disclosed  Phase I environmental site assessment for {add...\n",
       "10  Nothing disclosed  Receipt provided to Ontario Works client {name...\n",
       "10      All disclosed  A complete copy of Ontario Works client file f...\n",
       "10  Nothing disclosed  A complete copy of Ontario Works client file f...\n",
       "10      All disclosed  A list of company names and addresses that wer...\n",
       "16      All disclosed       Supervisor/Manager notes for {name removed}.\n",
       "16      All disclosed  Assessment roll information for Kitchener, Wat...\n",
       "16  Nothing disclosed  Plans, diagrams, and related information regar...\n",
       "16      All disclosed  List of restaurants inspected by Healthy Envir...\n",
       "16      All disclosed  Environmental Enforcement Services file on {lo...\n",
       "16      All disclosed  Minutes and notes relating to {name removed} m...\n",
       "16      All disclosed  Public Health inspections, complaints and viol...\n",
       "16  Nothing disclosed  Information regarding speed detection unit use...\n",
       "16  Nothing disclosed  Email sent by {name removed} to CUPE members w...\n",
       "16      All disclosed  Phase I environmental site assessment for {add...\n",
       "16      All disclosed  A copy of Ontario Works client file for (name ...\n",
       "16      All disclosed  Signal light sequence and timing at {intersect...\n",
       "16  Nothing disclosed  A complete copy of Ontario Works client file f...\n",
       "16      All disclosed                Rabies control investigation file. \n",
       "16      All disclosed  Phase I environmental site assessment for {loc...\n",
       "16  Nothing disclosed  Data related to dental caries within the Regio...\n",
       "16      All disclosed  List of companies paying a sewer surcharge for...\n",
       "16      All disclosed  Identity and affiliation of freedom of informa...\n",
       "16  Nothing disclosed  A complete copy of Ontario Works client file f...\n",
       "16      All disclosed  Hopewell now Bentall Developments � BMP Agreem...\n",
       "\n",
       "[608 rows x 2 columns]"
      ]
     },
     "metadata": {},
     "output_type": "display_data"
    },
    {
     "name": "stdout",
     "output_type": "stream",
     "text": [
      "\n",
      "'All disclosed' predicted as 'Nothing disclosed' : 30 examples.\n"
     ]
    },
    {
     "data": {
      "text/html": [
       "<div>\n",
       "<style scoped>\n",
       "    .dataframe tbody tr th:only-of-type {\n",
       "        vertical-align: middle;\n",
       "    }\n",
       "\n",
       "    .dataframe tbody tr th {\n",
       "        vertical-align: top;\n",
       "    }\n",
       "\n",
       "    .dataframe thead th {\n",
       "        text-align: right;\n",
       "    }\n",
       "</style>\n",
       "<table border=\"1\" class=\"dataframe\">\n",
       "  <thead>\n",
       "    <tr style=\"text-align: right;\">\n",
       "      <th></th>\n",
       "      <th>Decision</th>\n",
       "      <th>Request_summary</th>\n",
       "    </tr>\n",
       "  </thead>\n",
       "  <tbody>\n",
       "    <tr>\n",
       "      <th>4</th>\n",
       "      <td>All disclosed</td>\n",
       "      <td>Weigh slips for landfill truck and ticket issu...</td>\n",
       "    </tr>\n",
       "    <tr>\n",
       "      <th>4</th>\n",
       "      <td>All disclosed</td>\n",
       "      <td>Human Resources Personal File for {name removed}.</td>\n",
       "    </tr>\n",
       "    <tr>\n",
       "      <th>4</th>\n",
       "      <td>All disclosed</td>\n",
       "      <td>Letter sent by {name removed} to {name removed...</td>\n",
       "    </tr>\n",
       "    <tr>\n",
       "      <th>4</th>\n",
       "      <td>All disclosed</td>\n",
       "      <td>Documentation regarding {name removed} GWA sta...</td>\n",
       "    </tr>\n",
       "    <tr>\n",
       "      <th>4</th>\n",
       "      <td>All disclosed</td>\n",
       "      <td>Regional Solicitor's file for {name removed} r...</td>\n",
       "    </tr>\n",
       "    <tr>\n",
       "      <th>4</th>\n",
       "      <td>All disclosed</td>\n",
       "      <td>Vendor list report with total of year-to-date ...</td>\n",
       "    </tr>\n",
       "    <tr>\n",
       "      <th>4</th>\n",
       "      <td>All disclosed</td>\n",
       "      <td>Public Health Inspection reports about food-bo...</td>\n",
       "    </tr>\n",
       "    <tr>\n",
       "      <th>4</th>\n",
       "      <td>All disclosed</td>\n",
       "      <td>Records relating to environmental issues or im...</td>\n",
       "    </tr>\n",
       "    <tr>\n",
       "      <th>4</th>\n",
       "      <td>Nothing disclosed</td>\n",
       "      <td>Records related to laser speed detection unit ...</td>\n",
       "    </tr>\n",
       "    <tr>\n",
       "      <th>4</th>\n",
       "      <td>All disclosed</td>\n",
       "      <td>Sewer surcharge data for {company name removed...</td>\n",
       "    </tr>\n",
       "    <tr>\n",
       "      <th>4</th>\n",
       "      <td>All disclosed</td>\n",
       "      <td>All records regarding snow clearing on all Reg...</td>\n",
       "    </tr>\n",
       "    <tr>\n",
       "      <th>4</th>\n",
       "      <td>All disclosed</td>\n",
       "      <td>Public Health investigation records regarding ...</td>\n",
       "    </tr>\n",
       "    <tr>\n",
       "      <th>4</th>\n",
       "      <td>All disclosed</td>\n",
       "      <td>A copy of Ontario Works client file for (name ...</td>\n",
       "    </tr>\n",
       "    <tr>\n",
       "      <th>4</th>\n",
       "      <td>All disclosed</td>\n",
       "      <td>Food product complaint investigation for pumpk...</td>\n",
       "    </tr>\n",
       "    <tr>\n",
       "      <th>4</th>\n",
       "      <td>All disclosed</td>\n",
       "      <td>Food premise inspections for {restaurant name ...</td>\n",
       "    </tr>\n",
       "    <tr>\n",
       "      <th>4</th>\n",
       "      <td>Nothing disclosed</td>\n",
       "      <td>Phase I environmental site assessment for {add...</td>\n",
       "    </tr>\n",
       "    <tr>\n",
       "      <th>4</th>\n",
       "      <td>All disclosed</td>\n",
       "      <td>A complete copy of Ontario Works client file f...</td>\n",
       "    </tr>\n",
       "    <tr>\n",
       "      <th>4</th>\n",
       "      <td>All disclosed</td>\n",
       "      <td>a Copy of Plan TC-246-K Signal Design Dated 9/...</td>\n",
       "    </tr>\n",
       "    <tr>\n",
       "      <th>4</th>\n",
       "      <td>All disclosed</td>\n",
       "      <td>Complete copy of the Ontario Works file for {n...</td>\n",
       "    </tr>\n",
       "    <tr>\n",
       "      <th>19</th>\n",
       "      <td>All disclosed</td>\n",
       "      <td>General Information in Competition Files 93-16...</td>\n",
       "    </tr>\n",
       "    <tr>\n",
       "      <th>19</th>\n",
       "      <td>All disclosed</td>\n",
       "      <td>Home Child Care Provider File for {name removed}.</td>\n",
       "    </tr>\n",
       "    <tr>\n",
       "      <th>19</th>\n",
       "      <td>All disclosed</td>\n",
       "      <td>Competition file for Senior Clerk Joblink Posi...</td>\n",
       "    </tr>\n",
       "    <tr>\n",
       "      <th>19</th>\n",
       "      <td>All disclosed</td>\n",
       "      <td>Any correspondence prepared by the Region of W...</td>\n",
       "    </tr>\n",
       "    <tr>\n",
       "      <th>19</th>\n",
       "      <td>All disclosed</td>\n",
       "      <td>A complete copy of Ontario Works client file f...</td>\n",
       "    </tr>\n",
       "    <tr>\n",
       "      <th>19</th>\n",
       "      <td>All disclosed</td>\n",
       "      <td>Requester's own personal information regarding...</td>\n",
       "    </tr>\n",
       "    <tr>\n",
       "      <th>19</th>\n",
       "      <td>Nothing disclosed</td>\n",
       "      <td>List of all chlorinated solvent sites in the R...</td>\n",
       "    </tr>\n",
       "    <tr>\n",
       "      <th>19</th>\n",
       "      <td>All disclosed</td>\n",
       "      <td>Phase I environmental site assessments for {ad...</td>\n",
       "    </tr>\n",
       "    <tr>\n",
       "      <th>19</th>\n",
       "      <td>All disclosed</td>\n",
       "      <td>Food-borne illness complaint investigation reg...</td>\n",
       "    </tr>\n",
       "    <tr>\n",
       "      <th>19</th>\n",
       "      <td>All disclosed</td>\n",
       "      <td>Details about Region of Waterloo monitoring we...</td>\n",
       "    </tr>\n",
       "    <tr>\n",
       "      <th>19</th>\n",
       "      <td>Nothing disclosed</td>\n",
       "      <td>Phase I environmental site assessment for (loc...</td>\n",
       "    </tr>\n",
       "    <tr>\n",
       "      <th>...</th>\n",
       "      <td>...</td>\n",
       "      <td>...</td>\n",
       "    </tr>\n",
       "    <tr>\n",
       "      <th>22</th>\n",
       "      <td>All disclosed</td>\n",
       "      <td>Phase I environmental site assessment for {add...</td>\n",
       "    </tr>\n",
       "    <tr>\n",
       "      <th>22</th>\n",
       "      <td>All disclosed</td>\n",
       "      <td>Pricing information for Request for Proposal 2...</td>\n",
       "    </tr>\n",
       "    <tr>\n",
       "      <th>22</th>\n",
       "      <td>Nothing disclosed</td>\n",
       "      <td>Phase I environmental site assessment for {add...</td>\n",
       "    </tr>\n",
       "    <tr>\n",
       "      <th>22</th>\n",
       "      <td>All disclosed</td>\n",
       "      <td>Phase I Environmental site assessment for {add...</td>\n",
       "    </tr>\n",
       "    <tr>\n",
       "      <th>22</th>\n",
       "      <td>All disclosed</td>\n",
       "      <td>Contract with City of Guelph for organics proc...</td>\n",
       "    </tr>\n",
       "    <tr>\n",
       "      <th>22</th>\n",
       "      <td>All disclosed</td>\n",
       "      <td>Project agreement between Region of Waterloo a...</td>\n",
       "    </tr>\n",
       "    <tr>\n",
       "      <th>22</th>\n",
       "      <td>All disclosed</td>\n",
       "      <td>1.�Doon Valley Manor Supportive Housing assess...</td>\n",
       "    </tr>\n",
       "    <tr>\n",
       "      <th>22</th>\n",
       "      <td>Nothing disclosed</td>\n",
       "      <td>Health Department records, for the property lo...</td>\n",
       "    </tr>\n",
       "    <tr>\n",
       "      <th>7</th>\n",
       "      <td>All disclosed</td>\n",
       "      <td>Pricing for supplies and rentals regarding the...</td>\n",
       "    </tr>\n",
       "    <tr>\n",
       "      <th>7</th>\n",
       "      <td>All disclosed</td>\n",
       "      <td>A complete copy of Income Maintenance client f...</td>\n",
       "    </tr>\n",
       "    <tr>\n",
       "      <th>7</th>\n",
       "      <td>All disclosed</td>\n",
       "      <td>All personal file records for {name removed} p...</td>\n",
       "    </tr>\n",
       "    <tr>\n",
       "      <th>7</th>\n",
       "      <td>All disclosed</td>\n",
       "      <td>Information concerning decision to deny vocati...</td>\n",
       "    </tr>\n",
       "    <tr>\n",
       "      <th>7</th>\n",
       "      <td>All disclosed</td>\n",
       "      <td>7 information items regarding construction con...</td>\n",
       "    </tr>\n",
       "    <tr>\n",
       "      <th>7</th>\n",
       "      <td>Nothing disclosed</td>\n",
       "      <td>GWA for {name removed} records from January 1,...</td>\n",
       "    </tr>\n",
       "    <tr>\n",
       "      <th>7</th>\n",
       "      <td>All disclosed</td>\n",
       "      <td>Public Health Inspection reports and laborator...</td>\n",
       "    </tr>\n",
       "    <tr>\n",
       "      <th>7</th>\n",
       "      <td>All disclosed</td>\n",
       "      <td>Names of contractors and quotes for Request fo...</td>\n",
       "    </tr>\n",
       "    <tr>\n",
       "      <th>7</th>\n",
       "      <td>All disclosed</td>\n",
       "      <td>Rabies incident report records regarding May 2...</td>\n",
       "    </tr>\n",
       "    <tr>\n",
       "      <th>7</th>\n",
       "      <td>All disclosed</td>\n",
       "      <td>Information about {name removed} and children ...</td>\n",
       "    </tr>\n",
       "    <tr>\n",
       "      <th>7</th>\n",
       "      <td>Nothing disclosed</td>\n",
       "      <td>A complete copy of Ontario Works client file f...</td>\n",
       "    </tr>\n",
       "    <tr>\n",
       "      <th>7</th>\n",
       "      <td>All disclosed</td>\n",
       "      <td>Phase I environmental site assessment {address...</td>\n",
       "    </tr>\n",
       "    <tr>\n",
       "      <th>7</th>\n",
       "      <td>All disclosed</td>\n",
       "      <td>Rights and responsibilities form dated March 2...</td>\n",
       "    </tr>\n",
       "    <tr>\n",
       "      <th>7</th>\n",
       "      <td>All disclosed</td>\n",
       "      <td>Rabies control investigation records affecting...</td>\n",
       "    </tr>\n",
       "    <tr>\n",
       "      <th>7</th>\n",
       "      <td>All disclosed</td>\n",
       "      <td>Transportation Operations records for all road...</td>\n",
       "    </tr>\n",
       "    <tr>\n",
       "      <th>7</th>\n",
       "      <td>Nothing disclosed</td>\n",
       "      <td>Phase I environmental site assessment for {add...</td>\n",
       "    </tr>\n",
       "    <tr>\n",
       "      <th>7</th>\n",
       "      <td>All disclosed</td>\n",
       "      <td>A complete copy of Ontario Works client file f...</td>\n",
       "    </tr>\n",
       "    <tr>\n",
       "      <th>7</th>\n",
       "      <td>All disclosed</td>\n",
       "      <td>Phase I environmental site assessment for {add...</td>\n",
       "    </tr>\n",
       "    <tr>\n",
       "      <th>7</th>\n",
       "      <td>All disclosed</td>\n",
       "      <td>Winning bid for blueprinting services for 2012.</td>\n",
       "    </tr>\n",
       "    <tr>\n",
       "      <th>7</th>\n",
       "      <td>All disclosed</td>\n",
       "      <td>Proposal PQ2012-03 - Preston WWTP; notes, eval...</td>\n",
       "    </tr>\n",
       "    <tr>\n",
       "      <th>7</th>\n",
       "      <td>All disclosed</td>\n",
       "      <td>Complete file regarding {name removed} dog att...</td>\n",
       "    </tr>\n",
       "    <tr>\n",
       "      <th>7</th>\n",
       "      <td>All disclosed</td>\n",
       "      <td>Any environmental records that the Region of W...</td>\n",
       "    </tr>\n",
       "  </tbody>\n",
       "</table>\n",
       "<p>546 rows × 2 columns</p>\n",
       "</div>"
      ],
      "text/plain": [
       "             Decision                                    Request_summary\n",
       "4       All disclosed  Weigh slips for landfill truck and ticket issu...\n",
       "4       All disclosed  Human Resources Personal File for {name removed}.\n",
       "4       All disclosed  Letter sent by {name removed} to {name removed...\n",
       "4       All disclosed  Documentation regarding {name removed} GWA sta...\n",
       "4       All disclosed  Regional Solicitor's file for {name removed} r...\n",
       "4       All disclosed  Vendor list report with total of year-to-date ...\n",
       "4       All disclosed  Public Health Inspection reports about food-bo...\n",
       "4       All disclosed  Records relating to environmental issues or im...\n",
       "4   Nothing disclosed  Records related to laser speed detection unit ...\n",
       "4       All disclosed  Sewer surcharge data for {company name removed...\n",
       "4       All disclosed  All records regarding snow clearing on all Reg...\n",
       "4       All disclosed  Public Health investigation records regarding ...\n",
       "4       All disclosed  A copy of Ontario Works client file for (name ...\n",
       "4       All disclosed  Food product complaint investigation for pumpk...\n",
       "4       All disclosed  Food premise inspections for {restaurant name ...\n",
       "4   Nothing disclosed  Phase I environmental site assessment for {add...\n",
       "4       All disclosed  A complete copy of Ontario Works client file f...\n",
       "4       All disclosed  a Copy of Plan TC-246-K Signal Design Dated 9/...\n",
       "4       All disclosed  Complete copy of the Ontario Works file for {n...\n",
       "19      All disclosed  General Information in Competition Files 93-16...\n",
       "19      All disclosed  Home Child Care Provider File for {name removed}.\n",
       "19      All disclosed  Competition file for Senior Clerk Joblink Posi...\n",
       "19      All disclosed  Any correspondence prepared by the Region of W...\n",
       "19      All disclosed  A complete copy of Ontario Works client file f...\n",
       "19      All disclosed  Requester's own personal information regarding...\n",
       "19  Nothing disclosed  List of all chlorinated solvent sites in the R...\n",
       "19      All disclosed  Phase I environmental site assessments for {ad...\n",
       "19      All disclosed  Food-borne illness complaint investigation reg...\n",
       "19      All disclosed  Details about Region of Waterloo monitoring we...\n",
       "19  Nothing disclosed  Phase I environmental site assessment for (loc...\n",
       "..                ...                                                ...\n",
       "22      All disclosed  Phase I environmental site assessment for {add...\n",
       "22      All disclosed  Pricing information for Request for Proposal 2...\n",
       "22  Nothing disclosed  Phase I environmental site assessment for {add...\n",
       "22      All disclosed  Phase I Environmental site assessment for {add...\n",
       "22      All disclosed  Contract with City of Guelph for organics proc...\n",
       "22      All disclosed  Project agreement between Region of Waterloo a...\n",
       "22      All disclosed  1.�Doon Valley Manor Supportive Housing assess...\n",
       "22  Nothing disclosed  Health Department records, for the property lo...\n",
       "7       All disclosed  Pricing for supplies and rentals regarding the...\n",
       "7       All disclosed  A complete copy of Income Maintenance client f...\n",
       "7       All disclosed  All personal file records for {name removed} p...\n",
       "7       All disclosed  Information concerning decision to deny vocati...\n",
       "7       All disclosed  7 information items regarding construction con...\n",
       "7   Nothing disclosed  GWA for {name removed} records from January 1,...\n",
       "7       All disclosed  Public Health Inspection reports and laborator...\n",
       "7       All disclosed  Names of contractors and quotes for Request fo...\n",
       "7       All disclosed  Rabies incident report records regarding May 2...\n",
       "7       All disclosed  Information about {name removed} and children ...\n",
       "7   Nothing disclosed  A complete copy of Ontario Works client file f...\n",
       "7       All disclosed  Phase I environmental site assessment {address...\n",
       "7       All disclosed  Rights and responsibilities form dated March 2...\n",
       "7       All disclosed  Rabies control investigation records affecting...\n",
       "7       All disclosed  Transportation Operations records for all road...\n",
       "7   Nothing disclosed  Phase I environmental site assessment for {add...\n",
       "7       All disclosed  A complete copy of Ontario Works client file f...\n",
       "7       All disclosed  Phase I environmental site assessment for {add...\n",
       "7       All disclosed    Winning bid for blueprinting services for 2012.\n",
       "7       All disclosed  Proposal PQ2012-03 - Preston WWTP; notes, eval...\n",
       "7       All disclosed  Complete file regarding {name removed} dog att...\n",
       "7       All disclosed  Any environmental records that the Region of W...\n",
       "\n",
       "[546 rows x 2 columns]"
      ]
     },
     "metadata": {},
     "output_type": "display_data"
    },
    {
     "name": "stdout",
     "output_type": "stream",
     "text": [
      "\n"
     ]
    }
   ],
   "source": [
    "from IPython.display import display\n",
    "\n",
    "for predicted in category_id_df.category_id:\n",
    "    for actual in category_id_df.category_id:\n",
    "        if predicted != actual and conf_mat[actual, predicted] >=5:\n",
    "            print(\"'{}' predicted as '{}' : {} examples.\".format(id_to_category[actual], id_to_category[predicted],\n",
    "                                                                conf_mat[actual, predicted]))\n",
    "            display(all_df_noWith.loc[indices_test[(y_test == actual) & (y_pred == predicted)]][['Decision',\n",
    "                                                                                         'Request_summary']])\n",
    "            print('')"
   ]
  },
  {
   "cell_type": "markdown",
   "metadata": {},
   "source": [
    "### Find the terms most correlated with each category"
   ]
  },
  {
   "cell_type": "code",
   "execution_count": 56,
   "metadata": {
    "collapsed": false
   },
   "outputs": [
    {
     "name": "stdout",
     "output_type": "stream",
     "text": [
      "# 'All disclosed':\n",
      "  . Top unigrams:\n",
      "       . years\n",
      "       . year\n",
      "  . Top bigrams:\n",
      "       . works file\n",
      "       . works client\n",
      "# 'Nothing disclosed':\n",
      "  . Top unigrams:\n",
      "       . years\n",
      "       . year\n",
      "  . Top bigrams:\n",
      "       . works file\n",
      "       . works client\n"
     ]
    }
   ],
   "source": [
    "model.fit(features, labels)\n",
    "N = 2\n",
    "for Decision, category_id in sorted(category_to_id.items()):\n",
    "  #turn the below line on if more than two categories\n",
    "  #indices = np.argsort(model.coef_[category_id])\n",
    "  feature_names = np.array(tfidf.get_feature_names()) #[indices]\n",
    "  unigrams = [v for v in reversed(feature_names) if len(v.split(' ')) == 1][:N]\n",
    "  bigrams = [v for v in reversed(feature_names) if len(v.split(' ')) == 2][:N]\n",
    "  print(\"# '{}':\".format(Decision))\n",
    "  print(\"  . Top unigrams:\\n       . {}\".format('\\n       . '.join(unigrams)))\n",
    "  print(\"  . Top bigrams:\\n       . {}\".format('\\n       . '.join(bigrams)))"
   ]
  },
  {
   "cell_type": "code",
   "execution_count": null,
   "metadata": {
    "collapsed": true
   },
   "outputs": [],
   "source": []
  }
 ],
 "metadata": {
  "kernelspec": {
   "display_name": "Python 3",
   "language": "python",
   "name": "python3"
  },
  "language_info": {
   "codemirror_mode": {
    "name": "ipython",
    "version": 3
   },
   "file_extension": ".py",
   "mimetype": "text/x-python",
   "name": "python",
   "nbconvert_exporter": "python",
   "pygments_lexer": "ipython3",
   "version": "3.6.0"
  }
 },
 "nbformat": 4,
 "nbformat_minor": 2
}
